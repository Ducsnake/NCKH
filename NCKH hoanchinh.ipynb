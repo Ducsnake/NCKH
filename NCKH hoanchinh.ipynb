{
  "cells": [
    {
      "cell_type": "markdown",
      "metadata": {
        "id": "IuR66Cfg6dk8"
      },
      "source": [
        "**ĐỀ TÀI: ỨNG DỤNG DEEP LEARNING TRONG CÔNG NGHỆ NHẬN DIỆN GIỌNG NÓI VÀ TỐI ƯU HÓA DỊCH THUẬT NGÔN NGỮ**"
      ]
    },
    {
      "cell_type": "markdown",
      "metadata": {
        "id": "b551KcTT6qu4"
      },
      "source": [
        "Danh sách nhóm thực hiện\n",
        "\n",
        "| STT | Họ và tên           | Lớp         | Chức danh    | Nhiệm vụ      |\n",
        "|-----|---------------------|-------------|--------------|---------------|\n",
        "| 1   | Lê Thị Linh Phương  | DHKL16A2HN  | Chủ nhiệm    | ND1, ND3      |\n",
        "| 2   | Nguyễn Đăng Thanh   | DHKL16A2HN  | Thành viên   | ND2, ND3      |\n",
        "| 3   | Nguyễn Hữu Đức      | DHKL16A2HN  | Thành viên   | ND2, ND3      |\n",
        "| 4   | Nguyễn Văn Hà       | DHKL16A2HN  | Thành viên   | ND1, ND3      |\n"
      ]
    },
    {
      "cell_type": "markdown",
      "metadata": {
        "id": "GgCgAsr2oykM"
      },
      "source": [
        "#NỘI DUNG 1: FILE ÂM THANH -> VĂN BẢN"
      ]
    },
    {
      "cell_type": "markdown",
      "metadata": {
        "id": "xTGKFT4gcSFh"
      },
      "source": [
        "**Trong nội dung này, trọng tâm là ứng dụng mô hình học sâu (deep learning) để chuyển đổi tín hiệu âm thanh đầu vào thành văn bản một cách tự động, chính xác và không phụ thuộc vào các dịch vụ bên ngoài.**"
      ]
    },
    {
      "cell_type": "markdown",
      "metadata": {
        "id": "nN0YHpECl6vo"
      },
      "source": [
        "Đầu tiên, chúng ta cần cài đặt một số thư viện hỗ trợ như Gradio, Transformers và Torchaudio để đảm bảo quá trình nhận diện giọng nói và xử lý âm thanh diễn ra hiệu quả."
      ]
    },
    {
      "cell_type": "markdown",
      "metadata": {
        "id": "NVOsT1dkkPTq"
      },
      "source": [
        "## Cài đặt các thư viện"
      ]
    },
    {
      "cell_type": "code",
      "execution_count": null,
      "metadata": {
        "id": "Ai_i_OVbjeP2"
      },
      "outputs": [],
      "source": [
        "!pip install -q gradio transformers torchaudio"
      ]
    },
    {
      "cell_type": "markdown",
      "metadata": {
        "id": "0HGHxfJTkbWO"
      },
      "source": [
        "**Trong đó:**\n",
        "- `gradio`:\tTạo giao diện web đơn giản cho ứng dụng AI, ví dụ như upload file âm thanh và hiển thị kết quả\n",
        "- `transformers`:\tCung cấp mô hình deep learning (ví dụ: Wav2Vec2, MBart, MarianMT) từ thư viện Hugging Face\n",
        "- `torchaudio`:\tThư viện xử lý âm thanh chuyên biệt cho PyTorch (chuyển đổi sampling rate, load WAV...)"
      ]
    },
    {
      "cell_type": "markdown",
      "metadata": {
        "id": "TfbGp-oIkUi2"
      },
      "source": [
        "## Import các thư viện"
      ]
    },
    {
      "cell_type": "code",
      "execution_count": null,
      "metadata": {
        "id": "v4qM8G2GjfEo"
      },
      "outputs": [],
      "source": [
        "import gradio as gr\n",
        "import torch\n",
        "import numpy as np\n",
        "import torchaudio\n",
        "from transformers import (\n",
        "    Wav2Vec2Processor,\n",
        "    Wav2Vec2ForCTC,\n",
        "    AutoFeatureExtractor,\n",
        "    Wav2Vec2ForSequenceClassification\n",
        ")\n",
        "import re"
      ]
    },
    {
      "cell_type": "markdown",
      "metadata": {
        "id": "yllLqeirkYMR"
      },
      "source": [
        "**Chi tiết các thư viện được import:**\n",
        "\n",
        "- `gradio`: Tạo giao diện web đơn giản để người dùng ghi âm hoặc upload file âm thanh.\n",
        "- `torch`, `torchaudio`: Xử lý tensor và dữ liệu âm thanh, chuẩn bị đầu vào cho mô hình học sâu.\n",
        "- `numpy`: Thư viện toán học cơ bản, xử lý mảng số liệu.\n",
        "- `transformers`: Tải và sử dụng các mô hình deep learning (như Wav2Vec2, MMS-LID) từ Hugging Face.\n",
        "- `re`: Xử lý biểu thức chính quy, hỗ trợ kiểm tra nội dung văn bản đầu ra."
      ]
    },
    {
      "cell_type": "markdown",
      "metadata": {
        "id": "Uyq2z42Gm4jg"
      },
      "source": [
        "## Khai báo cấu hình mô hình"
      ]
    },
    {
      "cell_type": "markdown",
      "metadata": {
        "id": "LVVFhKH_pmw3"
      },
      "source": [
        "Trong phần này, chương trình định nghĩa danh sách các mô hình nhận diện giọng nói tương ứng với từng ngôn ngữ, bao gồm: tiếng Anh, tiếng Việt, tiếng Pháp và tiếng Hàn.\n",
        "\n",
        "- `LANG_MODELS`: Là một từ điển ánh xạ mã ngôn ngữ (`\"en\"`, `\"vi\"`, `\"fr\"`, `\"ko\"`) với tên mô hình tương ứng được tải từ Hugging Face.\n",
        "\n",
        "- `model_cache`, `processor_cache`: Dùng để lưu trữ các mô hình và processor sau khi tải lần đầu. Việc này giúp tránh việc tải lại mô hình nhiều lần, tiết kiệm thời gian và tăng hiệu năng xử lý.\n",
        "\n",
        "→ Cách này hỗ trợ mở rộng dễ dàng nếu muốn thêm ngôn ngữ mới chỉ cần bổ sung vào `LANG_MODELS` mà không phải thay đổi logic chương trình.\n"
      ]
    },
    {
      "cell_type": "code",
      "execution_count": null,
      "metadata": {
        "id": "poKcE5-2jlpo"
      },
      "outputs": [],
      "source": [
        "# Danh sách mô hình nhận diện giọng nói cho từng ngôn ngữ\n",
        "LANG_MODELS = {\n",
        "    \"en\": \"facebook/wav2vec2-base-960h\",\n",
        "    \"vi\": \"nguyenvulebinh/wav2vec2-base-vietnamese-250h\",\n",
        "    \"fr\": \"jonatasgrosman/wav2vec2-large-xlsr-53-french\",\n",
        "    \"ko\": \"kresnik/wav2vec2-large-xlsr-korean\"\n",
        "}\n",
        "\n",
        "# Cache để lưu lại mô hình đã tải\n",
        "model_cache = {}\n",
        "processor_cache = {}"
      ]
    },
    {
      "cell_type": "markdown",
      "metadata": {
        "id": "pdY6cSTBplhX"
      },
      "source": [
        "## Mô hình phát hiện ngôn ngữ"
      ]
    },
    {
      "cell_type": "markdown",
      "metadata": {
        "id": "S-g2TE9Zq96n"
      },
      "source": [
        "Để xác định ngôn ngữ nói trong tệp âm thanh, chương trình sử dụng mô hình **\"facebook/mms-lid-256\"** – một mô hình học sâu thuộc dự án MMS (Massively Multilingual Speech) do Meta AI phát triển.\n",
        "\n",
        "Cấu hình mô hình:\n",
        "- `LANG_ID_MODEL`: Đường dẫn đến mô hình được tải từ thư viện Hugging Face.\n",
        "- `AutoFeatureExtractor`: Bộ trích xuất đặc trưng âm thanh đầu vào để phù hợp với định dạng mô hình yêu cầu.\n",
        "- `Wav2Vec2ForSequenceClassification`: Mô hình phân loại chuỗi tín hiệu đầu vào thành các nhãn ngôn ngữ.\n",
        "- `lid_model.eval()`: Đặt mô hình ở chế độ suy luận, không thực hiện cập nhật gradient.\n",
        "\n",
        "Bản đồ ánh xạ ngôn ngữ (`LANG_MAP`)\n",
        "- Do mô hình trả về mã ngôn ngữ theo chuẩn **ISO-639-3** (ví dụ: `\"eng\"`, `\"vie\"`...), ta ánh xạ về mã 2 ký tự đơn giản hơn (`\"en\"`, `\"vi\"`, `\"fr\"`, `\"ko\"`) để sử dụng tiếp.\n",
        "\n",
        "→ Bước này giúp hệ thống **phân biệt được ngôn ngữ đầu vào** mà không cần người dùng chọn trước, tạo ra trải nghiệm và cảm giác tự động hơn.\n"
      ]
    },
    {
      "cell_type": "code",
      "execution_count": null,
      "metadata": {
        "id": "9Ko4obW9jtEY"
      },
      "outputs": [],
      "source": [
        "# Cấu hình mô hình\n",
        "LANG_ID_MODEL = \"facebook/mms-lid-256\"\n",
        "extractor = AutoFeatureExtractor.from_pretrained(LANG_ID_MODEL)\n",
        "lid_model = Wav2Vec2ForSequenceClassification.from_pretrained(LANG_ID_MODEL)\n",
        "lid_model.eval()\n",
        "ID2LABEL = lid_model.config.id2label\n",
        "\n",
        "# Bản đồ ngôn ngữ\n",
        "LANG_MAP = {\"eng\": \"en\", \"vie\": \"vi\", \"fra\": \"fr\", \"kor\": \"ko\"}"
      ]
    },
    {
      "cell_type": "markdown",
      "metadata": {
        "id": "1DRbL-guqDGK"
      },
      "source": [
        "## Các hàm xử lý phụ trợ"
      ]
    },
    {
      "cell_type": "markdown",
      "metadata": {
        "id": "26wRiFJQsid4"
      },
      "source": [
        "Phần này bao gồm các hàm hỗ trợ quá trình xử lý âm thanh đầu vào trước khi đưa vào mô hình, nhằm đảm bảo định dạng và chất lượng tín hiệu phù hợp.\n"
      ]
    },
    {
      "cell_type": "code",
      "execution_count": null,
      "metadata": {
        "id": "1b9_2LGjjxA4"
      },
      "outputs": [],
      "source": [
        "# Hàm đảm bảo audio có sampling rate là 16000 Hz\n",
        "def ensure_16k(audio_tensor, sr):\n",
        "    if sr != 16000:\n",
        "        resampler = torchaudio.transforms.Resample(orig_freq=sr, new_freq=16000)\n",
        "        audio_tensor = resampler(audio_tensor)\n",
        "        return audio_tensor, 16000\n",
        "    return audio_tensor, sr\n",
        "\n",
        "# Hàm kiểm tra xem văn bản có phải là văn bản rác hay không\n",
        "def is_gibberish(text):\n",
        "    nonsense = re.findall(r\"\\b[A-Z]{4,}\\b\", text)\n",
        "    return len(nonsense) > 3"
      ]
    },
    {
      "cell_type": "markdown",
      "metadata": {
        "id": "Om3R010_sxWJ"
      },
      "source": [
        "**1. `ensure_16k(audio_tensor, sr)`**\n",
        "- Mục đích: Đảm bảo rằng tín hiệu âm thanh có **tần số lấy mẫu (sampling rate)** đúng là `16000 Hz`, vì hầu hết các mô hình Wav2Vec2 yêu cầu chuẩn này.\n",
        "- Nếu đầu vào có sampling rate khác, hàm sẽ thực hiện nội suy lại về 16000 Hz bằng `torchaudio.transforms.Resample`.\n",
        "\n",
        "**2. `is_gibberish(text)`**\n",
        "- Mục đích: Kiểm tra xem văn bản đầu ra có phải là **văn bản rác hoặc vô nghĩa** hay không.\n",
        "- Cách hoạt động: Tìm các từ viết IN HOA có độ dài ≥ 4 và nếu có hơn 3 từ như vậy, thì được coi là rác.\n",
        "- Ứng dụng: Hữu ích trong việc loại bỏ kết quả nhận diện sai hoặc nhiễu trong đầu ra."
      ]
    },
    {
      "cell_type": "markdown",
      "metadata": {
        "id": "W4rM7tunqXpa"
      },
      "source": [
        "## Hàm chính xử lý âm thanh"
      ]
    },
    {
      "cell_type": "markdown",
      "metadata": {
        "id": "Nf5B936Yue0A"
      },
      "source": [
        "Các hàm trong phần này đảm nhiệm vai trò trung tâm trong quy trình xử lý tín hiệu âm thanh, bao gồm:\n",
        "\n",
        "- **Phân loại ngôn ngữ** từ dữ liệu âm thanh thông qua mô hình học sâu  \n",
        "- **Khởi tạo và quản lý mô hình** nhận diện giọng nói phù hợp  \n",
        "- **Thực hiện chuyển đổi** giọng nói sang dạng văn bản  \n",
        "- **Tích hợp toàn bộ quy trình xử lý** vào một hàm duy nhất (`process`)\n"
      ]
    },
    {
      "cell_type": "code",
      "execution_count": null,
      "metadata": {
        "id": "Aqlq_mlZjyME"
      },
      "outputs": [],
      "source": [
        "# Hàm phát hiện ngôn ngữ nói từ âm thanh bằng mô hình phân loại ngôn ngữ\n",
        "def detect_language(audio_tensor, sr=16000):\n",
        "    inputs = extractor(audio_tensor.numpy(), sampling_rate=sr, return_tensors=\"pt\")\n",
        "    with torch.no_grad():\n",
        "        logits = lid_model(**inputs).logits\n",
        "    pred_id = logits.argmax(dim=-1).item()\n",
        "    iso3 = ID2LABEL[pred_id]\n",
        "    lang = LANG_MAP.get(iso3, \"en\")\n",
        "    print(f\"[DEBUG] Detected ISO: {iso3} → lang: {lang}\")\n",
        "    return lang\n",
        "\n",
        "# Hàm tải mô hình và processor tương ứng với ngôn ngữ nếu chưa có trong cache\n",
        "def get_cached_model(lang):\n",
        "    if lang not in model_cache:\n",
        "        print(f\"[INFO] Loading model for language: {lang}\")\n",
        "        model_name = LANG_MODELS[lang]\n",
        "        processor_cache[lang] = Wav2Vec2Processor.from_pretrained(model_name)\n",
        "        model_cache[lang] = Wav2Vec2ForCTC.from_pretrained(model_name).eval()\n",
        "    return processor_cache[lang], model_cache[lang]\n",
        "\n",
        "# Hàm chuyển đổi âm thanh sang văn bản bằng mô hình Wav2Vec2 đã được cache\n",
        "def speech_to_text(audio_tensor, lang, sr=16000):\n",
        "    processor, model = get_cached_model(lang)\n",
        "    inputs = processor(audio_tensor, sampling_rate=sr, return_tensors=\"pt\")\n",
        "    with torch.no_grad():\n",
        "        logits = model(**inputs).logits\n",
        "    pred_ids = torch.argmax(logits, dim=-1)\n",
        "    return processor.batch_decode(pred_ids)[0]\n",
        "\n",
        "# Hàm xử lý chính: chuẩn hóa âm thanh, phát hiện ngôn ngữ, nhận diện giọng nói và trả về kết quả\n",
        "def process(audio_input):\n",
        "    try:\n",
        "        sr, array = audio_input\n",
        "        audio_tensor = torch.tensor(array, dtype=torch.float32)\n",
        "        audio_tensor = audio_tensor / torch.abs(audio_tensor).max()\n",
        "        audio_tensor, sr = ensure_16k(audio_tensor, sr)\n",
        "        lang = detect_language(audio_tensor, sr)\n",
        "        text = speech_to_text(audio_tensor, lang, sr)\n",
        "        return lang.upper(), text\n",
        "    except Exception as e:\n",
        "        return f\"Error: {e}\", \"\""
      ]
    },
    {
      "cell_type": "markdown",
      "metadata": {
        "id": "JFTJg6GOurJr"
      },
      "source": [
        "1. `detect_language(audio_tensor, sr)`\n",
        "- Sử dụng mô hình `facebook/mms-lid-256` để phát hiện ngôn ngữ từ dữ liệu âm thanh.\n",
        "- Trả về mã ngôn ngữ (ví dụ: `\"en\"`, `\"vi\"`,...) dùng trong các bước tiếp theo.\n",
        "\n",
        "2. `get_cached_model(lang)`\n",
        "- Kiểm tra xem mô hình và processor cho ngôn ngữ đó đã được tải chưa.\n",
        "- Nếu chưa, tải từ Hugging Face và lưu vào `cache` để dùng lại nhanh hơn sau này.\n",
        "\n",
        "3. `speech_to_text(audio_tensor, lang, sr)`\n",
        "- Dùng `Wav2Vec2Processor` để xử lý âm thanh thành tensor phù hợp.\n",
        "- Cho vào mô hình `Wav2Vec2ForCTC` để suy luận và trả về văn bản tương ứng.\n",
        "\n",
        "4. `process(audio_input)`\n",
        "- Là hàm tích hợp toàn bộ pipeline:\n",
        "  - Chuẩn hóa âm thanh\n",
        "  - Resample về 16kHz\n",
        "  - Phát hiện ngôn ngữ\n",
        "  - Nhận diện giọng nói\n",
        "  - Trả về kết quả cuối cùng: ngôn ngữ + văn bản\n",
        "\n",
        "→ Đây là phần trung tâm quyết định toàn bộ quá trình hoạt động của ứng dụng nhận diện giọng nói đa ngôn ngữ.\n"
      ]
    },
    {
      "cell_type": "markdown",
      "metadata": {
        "id": "PSs8RFjHqjhf"
      },
      "source": [
        "## Tạo giao diện Gradio"
      ]
    },
    {
      "cell_type": "markdown",
      "metadata": {
        "id": "z2njqSgkv31B"
      },
      "source": [
        "Gradio được sử dụng để tạo một **giao diện web đơn giản** cho hệ thống nhận diện giọng nói. Thay vì xây dựng giao diện bằng HTML hoặc các framework phức tạp, Gradio cho phép người dùng **tương tác trực tiếp với mô hình deep learning** chỉ với vài dòng lệnh.\n",
        "\n",
        "**Mục đích sử dụng:**\n",
        "\n",
        "- Tạo giao diện thân thiện: Cho phép người dùng ghi âm hoặc tải file âm thanh đầu vào dễ dàng.\n",
        "- Gọi hàm xử lý `process()`: Tự động thực thi toàn bộ quy trình xử lý âm thanh.\n",
        "- Hiển thị kết quả ngay lập tức: Bao gồm ngôn ngữ được phát hiện và văn bản nhận diện từ giọng nói.\n",
        "- Chạy trực tiếp trên Colab và chia sẻ dễ dàng: Hỗ trợ link truy cập `gradio.live` giúp demo nhanh chóng.\n",
        "- Tùy chỉnh giao diện dễ dàng: Có thể thêm tiêu đề, mô tả, biểu tượng để tăng tính trực quan."
      ]
    },
    {
      "cell_type": "code",
      "execution_count": null,
      "metadata": {
        "colab": {
          "base_uri": "https://localhost:8080/",
          "height": 910,
          "referenced_widgets": [
            "927c496d881b4ce7ba8089dabf4258e3",
            "786fb67558df48a8b5275271465b23ee",
            "a7c1248167614137ac6ec1958c6c68be",
            "286d48710b3d4b5e8c87c286147d8477",
            "e5c680ca51644afb9a5aa8178cb677aa",
            "5c43bb0110b9463080ac7e12862e8535",
            "634a492e9fc6476eb857ce32ab06c63e",
            "2ff8afff2afd4001a9ebc14589f43585",
            "c9ba09e74c0d48d49dd8b52ab022b1be",
            "79e3444db2944c03b9cd778dc52cc185",
            "4c8115456ed244b894defe84afa76d38",
            "d9805d84390c4af6b97545309fec256f",
            "155aab22dd844a5fa123ca047d72fa5f",
            "c096525522b64b669cf89820f37b189b",
            "0c001ec2272448489504597e3a50db92",
            "8076afe119194c46ba47efe65530934c",
            "1db8eb90c9a54c02b69b5f5e0f94337d",
            "09d662f3110f4a6e9aa3ccc75ff82861",
            "64b092d572d64994b57538469301d03c",
            "15e37eda85c54ce3a786863563977f97",
            "bbdc0ef10f8146c692b64a7f7a5c553b",
            "630e93c51fb64c26bc9011274f9ba6ba",
            "b43a1a89c413463587a2daf14af41d67",
            "48d7d7169c924fab95b8437df50abed7",
            "17f1ee27ec8b4680b11190a710c5b3c5",
            "4adee31bbc9947f1b72482866ee37fc0",
            "3be57579e43e4096a62369b7c0b3a4e4",
            "a8c5bf4cfd944cbaa883b1e331b98202",
            "e2d90df8f1724059a3b738e1a7d67e5d",
            "40c1509091cd42e4b62ebbb0ac78baa2",
            "3d6f428df3ea4f538ee33c19a5c660d8",
            "1c374c24b76748989ba5966cc7b8d957",
            "f4dd1922327447c3adc6765d206763d4",
            "98ce91b74a81444d87d388870c441c46",
            "561985fdbd5f4972832c77724e4bf316",
            "9e23a0f5233244bc88b502e30b001f31",
            "a61529b6c26648638ae8ee1b2d4894ec",
            "74f54f1993cd42b3b8fd20e264648d23",
            "23316c9768ad4c68beb1a85698b8aa15",
            "db853a23c83149d9901b79f647af985c",
            "193503143db64764a4842821f17f95c9",
            "39fd40de7c3c48a69ab8a470b455a70a",
            "203288ba52ad46bbb2f9ae4cae9f36c1",
            "957a2efb37de4a89b6b28325cd1f06c6",
            "0593b9c049e74926b1b9df301edd4744",
            "ffe0f81b275542dcab20e94d5bcd16b6",
            "0bd4c79f36254df7934c2c202c9a775e",
            "5a56347635cc4fb5a93bb623edd8e8aa",
            "f41774342af44c96b2465ed36d402c24",
            "28fcc100a2a345baa66a086161784138",
            "4a4c8133fcd24361903d50d8d8af01fd",
            "bea2dfe94fb34791985df85e78cad6ff",
            "6297e56ac00e42f0bd0e7459126e2dba",
            "c6f0f0a31183479d991fa76e0cff8963",
            "307a3ac8dc214f7796abd5c35b707c5f"
          ]
        },
        "id": "-Jb4g35tj2I9",
        "outputId": "5969d377-c5a0-46dc-bfbf-554691cbbed5"
      },
      "outputs": [
        {
          "name": "stdout",
          "output_type": "stream",
          "text": [
            "Running Gradio in a Colab notebook requires sharing enabled. Automatically setting `share=True` (you can turn this off by setting `share=False` in `launch()` explicitly).\n",
            "\n",
            "Colab notebook detected. This cell will run indefinitely so that you can see errors and logs. To turn off, set debug=False in launch().\n",
            "* Running on public URL: https://5cac44b5ab5f4302a8.gradio.live\n",
            "\n",
            "This share link expires in 72 hours. For free permanent hosting and GPU upgrades, run `gradio deploy` from the terminal in the working directory to deploy to Hugging Face Spaces (https://huggingface.co/spaces)\n"
          ]
        },
        {
          "data": {
            "text/html": [
              "<div><iframe src=\"https://5cac44b5ab5f4302a8.gradio.live\" width=\"100%\" height=\"500\" allow=\"autoplay; camera; microphone; clipboard-read; clipboard-write;\" frameborder=\"0\" allowfullscreen></iframe></div>"
            ],
            "text/plain": [
              "<IPython.core.display.HTML object>"
            ]
          },
          "metadata": {},
          "output_type": "display_data"
        },
        {
          "name": "stdout",
          "output_type": "stream",
          "text": [
            "[DEBUG] Detected ISO: kor → lang: ko\n",
            "[INFO] Loading model for language: ko\n"
          ]
        },
        {
          "data": {
            "application/vnd.jupyter.widget-view+json": {
              "model_id": "927c496d881b4ce7ba8089dabf4258e3",
              "version_major": 2,
              "version_minor": 0
            },
            "text/plain": [
              "preprocessor_config.json:   0%|          | 0.00/214 [00:00<?, ?B/s]"
            ]
          },
          "metadata": {},
          "output_type": "display_data"
        },
        {
          "data": {
            "application/vnd.jupyter.widget-view+json": {
              "model_id": "d9805d84390c4af6b97545309fec256f",
              "version_major": 2,
              "version_minor": 0
            },
            "text/plain": [
              "tokenizer_config.json:   0%|          | 0.00/161 [00:00<?, ?B/s]"
            ]
          },
          "metadata": {},
          "output_type": "display_data"
        },
        {
          "data": {
            "application/vnd.jupyter.widget-view+json": {
              "model_id": "b43a1a89c413463587a2daf14af41d67",
              "version_major": 2,
              "version_minor": 0
            },
            "text/plain": [
              "config.json:   0%|          | 0.00/2.31k [00:00<?, ?B/s]"
            ]
          },
          "metadata": {},
          "output_type": "display_data"
        },
        {
          "data": {
            "application/vnd.jupyter.widget-view+json": {
              "model_id": "98ce91b74a81444d87d388870c441c46",
              "version_major": 2,
              "version_minor": 0
            },
            "text/plain": [
              "vocab.json:   0%|          | 0.00/18.2k [00:00<?, ?B/s]"
            ]
          },
          "metadata": {},
          "output_type": "display_data"
        },
        {
          "name": "stderr",
          "output_type": "stream",
          "text": [
            "Xet Storage is enabled for this repo, but the 'hf_xet' package is not installed. Falling back to regular HTTP download. For better performance, install the package with: `pip install huggingface_hub[hf_xet]` or `pip install hf_xet`\n",
            "WARNING:huggingface_hub.file_download:Xet Storage is enabled for this repo, but the 'hf_xet' package is not installed. Falling back to regular HTTP download. For better performance, install the package with: `pip install huggingface_hub[hf_xet]` or `pip install hf_xet`\n"
          ]
        },
        {
          "data": {
            "application/vnd.jupyter.widget-view+json": {
              "model_id": "0593b9c049e74926b1b9df301edd4744",
              "version_major": 2,
              "version_minor": 0
            },
            "text/plain": [
              "model.safetensors:   0%|          | 0.00/1.27G [00:00<?, ?B/s]"
            ]
          },
          "metadata": {},
          "output_type": "display_data"
        },
        {
          "name": "stdout",
          "output_type": "stream",
          "text": [
            "Keyboard interruption in main thread... closing server.\n",
            "Killing tunnel 127.0.0.1:7860 <> https://5cac44b5ab5f4302a8.gradio.live\n"
          ]
        },
        {
          "data": {
            "text/plain": []
          },
          "execution_count": 12,
          "metadata": {},
          "output_type": "execute_result"
        }
      ],
      "source": [
        "# Tạo giao diện Gradio\n",
        "gr.Interface(\n",
        "    fn=process,\n",
        "    inputs=gr.Audio(type=\"numpy\", label=\"Ghi âm hoặc tải file âm thanh\"),\n",
        "    outputs=[\n",
        "        gr.Text(label=\"Ngôn ngữ phát hiện\"),\n",
        "        gr.Text(label=\"Văn bản nhận được\")\n",
        "    ],\n",
        "    title=\"Nhận diện giọng nói tự động nhiều ngôn ngữ (Anh - Việt - Pháp - Hàn)\",\n",
        "    description=\"Hệ thống tự động nhận diện ngôn ngữ và chuyển đổi giọng nói sang văn bản.\"\n",
        ").launch(debug=True)"
      ]
    },
    {
      "cell_type": "markdown",
      "metadata": {
        "id": "udMOdEo8w8X7"
      },
      "source": [
        "**Các thành phần chính:**\n",
        "\n",
        "- `fn=process`: Hàm xử lý chính sẽ được gọi mỗi khi người dùng gửi file âm thanh.\n",
        "- `inputs=gr.Audio(...)`: Thành phần nhập, cho phép người dùng ghi âm hoặc upload file `.wav`.\n",
        "- `outputs=[...]`: Gồm hai kết quả đầu ra:\n",
        "  - Văn bản hiển thị ngôn ngữ được phát hiện\n",
        "  - Văn bản nhận diện từ giọng nói\n",
        "- `title`, `description`: Tiêu đề và mô tả của ứng dụng."
      ]
    },
    {
      "cell_type": "markdown",
      "metadata": {
        "id": "3Q44g11So7fc"
      },
      "source": [
        "#NỘI DUNG 2: FILE VĂN BẢN (NGÔN NGỮ NGUỒN) -> VĂN BẢN (NGÔN NGỮ ĐÍCH)"
      ]
    },
    {
      "cell_type": "markdown",
      "metadata": {
        "id": "gShNpVeZ1VsE"
      },
      "source": [
        "Trong nội dung này, hệ thống thực hiện chức năng **dịch tự động một đoạn văn bản đầu vào sang các ngôn ngữ còn lại**, dựa trên việc tự động phát hiện ngôn ngữ nguồn. Người dùng không cần chọn ngôn ngữ đích, hệ thống sẽ chủ động dịch sang tất cả các ngôn ngữ hỗ trợ còn lại.\n",
        "\n",
        "**Mục tiêu:**\n",
        "- Nhập văn bản bằng một ngôn ngữ bất kỳ (trong 4 ngôn ngữ: Anh, Việt, Pháp, Hàn)\n",
        "- Hệ thống tự động phát hiện ngôn ngữ nguồn\n",
        "- Dịch văn bản đó sang **3 ngôn ngữ còn lại**\n",
        "- Hiển thị đồng thời tất cả các bản dịch\n",
        "\n",
        "**Mô hình sử dụng:**\n",
        "- Sử dụng các mô hình dịch đa ngôn ngữ như **MBart50** từ Hugging Face Transformers\n",
        "- Hỗ trợ nhiều ngôn ngữ với độ chính xác cao\n",
        "\n",
        "**Đánh giá hiệu suất bản dịch:**\n",
        "\n",
        "Sau khi hoàn tất quá trình dịch, hệ thống tiến hành đánh giá một số khía cạnh về chất lượng và đặc điểm của các bản dịch đầu ra nhằm:\n",
        "\n",
        "- Phân tích độ dài, độ phức tạp, độ dễ đọc\n",
        "- Đo lường hiệu quả hoạt động của hệ thống dịch\n",
        "\n",
        "→ Việc kết hợp chức năng dịch đa ngôn ngữ và đánh giá hiệu suất giúp hệ thống không chỉ tạo ra kết quả đúng, mà còn kiểm soát được **chất lượng** và **tính tự nhiên** của văn bản dịch.\n"
      ]
    },
    {
      "cell_type": "markdown",
      "metadata": {
        "id": "_PWFbtNjnk9F"
      },
      "source": [
        "##Cài đặt thư viện"
      ]
    },
    {
      "cell_type": "markdown",
      "metadata": {
        "id": "cwL9OZox3OwP"
      },
      "source": [
        "Trước khi thực hiện dịch văn bản và đánh giá hiệu suất, cần cài đặt một số thư viện hỗ trợ:\n",
        "\n",
        "- `transformers`: Cung cấp các mô hình dịch tự động như MBart hoặc MarianMT từ Hugging Face.\n",
        "- `langdetect`: Dùng để phát hiện ngôn ngữ đầu vào (hữu ích trong bước dịch tự động sang 3 ngôn ngữ còn lại).\n",
        "- `textstat`: Tính toán các chỉ số đánh giá văn bản như độ dễ đọc, độ dài câu, tính đa dạng từ vựng.\n",
        "\n",
        "→ Các thư viện này giúp hệ thống thực hiện cả chức năng **dịch tự động** lẫn **đánh giá chất lượng đầu ra** một cách hiệu quả.\n"
      ]
    },
    {
      "cell_type": "code",
      "execution_count": null,
      "metadata": {
        "colab": {
          "base_uri": "https://localhost:8080/"
        },
        "collapsed": true,
        "id": "n0GAhHdPKQvM",
        "outputId": "0310fb5b-7690-435b-86ff-e812c282421e"
      },
      "outputs": [
        {
          "name": "stdout",
          "output_type": "stream",
          "text": [
            "Requirement already satisfied: transformers in /usr/local/lib/python3.11/dist-packages (4.50.3)\n",
            "Requirement already satisfied: filelock in /usr/local/lib/python3.11/dist-packages (from transformers) (3.18.0)\n",
            "Requirement already satisfied: huggingface-hub<1.0,>=0.26.0 in /usr/local/lib/python3.11/dist-packages (from transformers) (0.30.1)\n",
            "Requirement already satisfied: numpy>=1.17 in /usr/local/lib/python3.11/dist-packages (from transformers) (2.0.2)\n",
            "Requirement already satisfied: packaging>=20.0 in /usr/local/lib/python3.11/dist-packages (from transformers) (24.2)\n",
            "Requirement already satisfied: pyyaml>=5.1 in /usr/local/lib/python3.11/dist-packages (from transformers) (6.0.2)\n",
            "Requirement already satisfied: regex!=2019.12.17 in /usr/local/lib/python3.11/dist-packages (from transformers) (2024.11.6)\n",
            "Requirement already satisfied: requests in /usr/local/lib/python3.11/dist-packages (from transformers) (2.32.3)\n",
            "Requirement already satisfied: tokenizers<0.22,>=0.21 in /usr/local/lib/python3.11/dist-packages (from transformers) (0.21.1)\n",
            "Requirement already satisfied: safetensors>=0.4.3 in /usr/local/lib/python3.11/dist-packages (from transformers) (0.5.3)\n",
            "Requirement already satisfied: tqdm>=4.27 in /usr/local/lib/python3.11/dist-packages (from transformers) (4.67.1)\n",
            "Requirement already satisfied: fsspec>=2023.5.0 in /usr/local/lib/python3.11/dist-packages (from huggingface-hub<1.0,>=0.26.0->transformers) (2025.3.2)\n",
            "Requirement already satisfied: typing-extensions>=3.7.4.3 in /usr/local/lib/python3.11/dist-packages (from huggingface-hub<1.0,>=0.26.0->transformers) (4.13.1)\n",
            "Requirement already satisfied: charset-normalizer<4,>=2 in /usr/local/lib/python3.11/dist-packages (from requests->transformers) (3.4.1)\n",
            "Requirement already satisfied: idna<4,>=2.5 in /usr/local/lib/python3.11/dist-packages (from requests->transformers) (3.10)\n",
            "Requirement already satisfied: urllib3<3,>=1.21.1 in /usr/local/lib/python3.11/dist-packages (from requests->transformers) (2.3.0)\n",
            "Requirement already satisfied: certifi>=2017.4.17 in /usr/local/lib/python3.11/dist-packages (from requests->transformers) (2025.1.31)\n",
            "Collecting langdetect\n",
            "  Downloading langdetect-1.0.9.tar.gz (981 kB)\n",
            "\u001b[2K     \u001b[90m━━━━━━━━━━━━━━━━━━━━━━━━━━━━━━━━━━━━━━\u001b[0m \u001b[32m981.5/981.5 kB\u001b[0m \u001b[31m13.4 MB/s\u001b[0m eta \u001b[36m0:00:00\u001b[0m\n",
            "\u001b[?25h  Preparing metadata (setup.py) ... \u001b[?25l\u001b[?25hdone\n",
            "Requirement already satisfied: six in /usr/local/lib/python3.11/dist-packages (from langdetect) (1.17.0)\n",
            "Building wheels for collected packages: langdetect\n",
            "  Building wheel for langdetect (setup.py) ... \u001b[?25l\u001b[?25hdone\n",
            "  Created wheel for langdetect: filename=langdetect-1.0.9-py3-none-any.whl size=993223 sha256=e55284b7b7020f5240bb1971c6c14351d389f27b724de691076e90f4e6af7a4c\n",
            "  Stored in directory: /root/.cache/pip/wheels/0a/f2/b2/e5ca405801e05eb7c8ed5b3b4bcf1fcabcd6272c167640072e\n",
            "Successfully built langdetect\n",
            "Installing collected packages: langdetect\n",
            "Successfully installed langdetect-1.0.9\n",
            "Collecting textstat\n",
            "  Downloading textstat-0.7.5-py3-none-any.whl.metadata (15 kB)\n",
            "Collecting pyphen (from textstat)\n",
            "  Downloading pyphen-0.17.2-py3-none-any.whl.metadata (3.2 kB)\n",
            "Collecting cmudict (from textstat)\n",
            "  Downloading cmudict-1.0.32-py3-none-any.whl.metadata (3.6 kB)\n",
            "Requirement already satisfied: setuptools in /usr/local/lib/python3.11/dist-packages (from textstat) (75.2.0)\n",
            "Requirement already satisfied: importlib-metadata>=5 in /usr/local/lib/python3.11/dist-packages (from cmudict->textstat) (8.6.1)\n",
            "Requirement already satisfied: importlib-resources>=5 in /usr/local/lib/python3.11/dist-packages (from cmudict->textstat) (6.5.2)\n",
            "Requirement already satisfied: zipp>=3.20 in /usr/local/lib/python3.11/dist-packages (from importlib-metadata>=5->cmudict->textstat) (3.21.0)\n",
            "Downloading textstat-0.7.5-py3-none-any.whl (105 kB)\n",
            "\u001b[2K   \u001b[90m━━━━━━━━━━━━━━━━━━━━━━━━━━━━━━━━━━━━━━━━\u001b[0m \u001b[32m105.3/105.3 kB\u001b[0m \u001b[31m3.8 MB/s\u001b[0m eta \u001b[36m0:00:00\u001b[0m\n",
            "\u001b[?25hDownloading cmudict-1.0.32-py3-none-any.whl (939 kB)\n",
            "\u001b[2K   \u001b[90m━━━━━━━━━━━━━━━━━━━━━━━━━━━━━━━━━━━━━━━━\u001b[0m \u001b[32m939.4/939.4 kB\u001b[0m \u001b[31m22.3 MB/s\u001b[0m eta \u001b[36m0:00:00\u001b[0m\n",
            "\u001b[?25hDownloading pyphen-0.17.2-py3-none-any.whl (2.1 MB)\n",
            "\u001b[2K   \u001b[90m━━━━━━━━━━━━━━━━━━━━━━━━━━━━━━━━━━━━━━━━\u001b[0m \u001b[32m2.1/2.1 MB\u001b[0m \u001b[31m47.6 MB/s\u001b[0m eta \u001b[36m0:00:00\u001b[0m\n",
            "\u001b[?25hInstalling collected packages: pyphen, cmudict, textstat\n",
            "Successfully installed cmudict-1.0.32 pyphen-0.17.2 textstat-0.7.5\n"
          ]
        }
      ],
      "source": [
        "!pip install transformers\n",
        "!pip install langdetect\n",
        "!pip install textstat"
      ]
    },
    {
      "cell_type": "markdown",
      "metadata": {
        "id": "EXksw6Ka4dHT"
      },
      "source": [
        "## Import các thư viện"
      ]
    },
    {
      "cell_type": "code",
      "execution_count": null,
      "metadata": {
        "id": "6Uagw3xP4cQd"
      },
      "outputs": [],
      "source": [
        "from transformers import MBartForConditionalGeneration, MBart50Tokenizer\n",
        "from langdetect import detect\n",
        "import re\n",
        "import time\n",
        "import textstat"
      ]
    },
    {
      "cell_type": "markdown",
      "metadata": {
        "id": "auhprkbjcqey"
      },
      "source": [
        "**Chi tiết các thư viện được import:**\n",
        "- `transformers`\n",
        " - Sử dụng mô hình dịch đa ngôn ngữ `MBartForConditionalGeneration` từ Hugging Face.\n",
        " - Tokenizer `MBart50Tokenizer` dùng để mã hóa/giải mã văn bản cho 50 ngôn ngữ.\n",
        "- `langdetect`\n",
        " - Dùng để phát hiện ngôn ngữ đầu vào (ví dụ: `vi`, `en`, `fr`...).\n",
        " - Giúp tự động cấu hình mã nguồn ngôn ngữ (`src_lang`) phù hợp cho tokenizer.\n",
        "\n",
        "- `re`\n",
        " - Xử lý tiền xử lý văn bản: loại bỏ khoảng trắng dư thừa, chuẩn hóa câu, tách câu theo dấu chấm/hỏi.\n",
        "\n",
        "- `time`\n",
        " - Đo thời gian dịch của từng văn bản (tính bằng giây).\n",
        " - Hỗ trợ đánh giá hiệu suất mô hình dịch.\n",
        "\n",
        "- `textstat`\n",
        " - Đánh giá độ dễ đọc của văn bản dịch.\n",
        " - Dùng để so sánh chất lượng ngôn ngữ đầu ra giữa các bản dịch.\n"
      ]
    },
    {
      "cell_type": "markdown",
      "metadata": {
        "id": "zVqtK0IHntOV"
      },
      "source": [
        "## Khởi tạo lớp dịch ngôn ngữ\n"
      ]
    },
    {
      "cell_type": "markdown",
      "metadata": {
        "id": "rCdL3uIOgUAh"
      },
      "source": [
        "**Mục tiêu:**\n",
        "\n",
        "- `TranslationModel` là một lớp Python được xây dựng để **tự động phát hiện ngôn ngữ của văn bản đầu vào** và **dịch văn bản đó sang các ngôn ngữ khác** (Anh, Việt, Pháp, Hàn) bằng mô hình deep learning MBart từ thư viện Hugging Face.\n",
        "\n",
        "- Mô hình dịch này hoạt động theo hướng **đầu vào văn bản → tiền xử lý → mô hình sinh đầu ra bằng ngôn ngữ đích**."
      ]
    },
    {
      "cell_type": "code",
      "execution_count": null,
      "metadata": {
        "id": "Pgq9JCHs5owL"
      },
      "outputs": [],
      "source": [
        "# Phần 1: Khởi tạo model và tokenizer\n",
        "class TranslationModel:\n",
        "    def __init__(self):\n",
        "        # Khởi tạo model MBart và tokenizer tương ứng với 50 ngôn ngữ\n",
        "        self.model_name = \"facebook/mbart-large-50-many-to-many-mmt\"\n",
        "        self.tokenizer = MBart50Tokenizer.from_pretrained(self.model_name)\n",
        "        self.model = MBartForConditionalGeneration.from_pretrained(self.model_name)\n",
        "        self.lang_map = {\n",
        "            \"vi\": \"vi_VN\",\n",
        "            \"en\": \"en_XX\",\n",
        "            \"fr\": \"fr_XX\",\n",
        "            \"ko\": \"ko_KR\"\n",
        "        }\n",
        "\n",
        "\n",
        "    # Hàm phát hiện ngôn ngữ của văn bản đầu vào\n",
        "    # Trả về mã ngôn ngữ chuẩn hóa theo định dạng MBart\n",
        "    def detect_language(self, text):\n",
        "        detected = detect_langs(text)\n",
        "        if not detected:\n",
        "            return \"vi_VN\"   # Mặc định là tiếng Việt nếu không nhận diện được\n",
        "        lang_code = detected[0].lang\n",
        "        return self.lang_map.get(lang_code, \"vi_VN\")\n",
        "\n",
        "\n",
        "    # Hàm tiền xử lý văn bản: chuẩn hóa khoảng trắng và viết hoa đầu câu\n",
        "    # Mục đích: làm sạch đầu vào giúp model dịch chính xác hơn\n",
        "    def preprocess_text(self, text):\n",
        "        text = re.sub(r'\\s+', ' ', text).strip()   # Xóa khoảng trắng dư\n",
        "        sentences = re.split(r'(?<=[.!?])\\s+', text)   # Tách câu theo dấu câu\n",
        "        processed_sentences = [s.capitalize() for s in sentences if s]   # Viết hoa mỗi câu\n",
        "        return ' '.join(processed_sentences)\n",
        "\n",
        "\n",
        "    # Hàm dịch văn bản từ ngôn ngữ gốc sang ngôn ngữ đích\n",
        "    # Gồm các bước: phát hiện ngôn ngữ, tiền xử lý, token hóa, dịch, giải mã\n",
        "    def translate_text(self, text, target_language):\n",
        "        src_lang = self.detect_language(text)\n",
        "        self.tokenizer.src_lang = src_lang\n",
        "\n",
        "        text = self.preprocess_text(text)\n",
        "\n",
        "        start_time = time.time()\n",
        "        encoded_text = self.tokenizer(text, return_tensors=\"pt\", max_length=512, truncation=True)\n",
        "\n",
        "        # Tạo chuỗi văn bản dịch bằng cách sử dụng beam search với ngôn ngữ đích\n",
        "        generated_tokens = self.model.generate(\n",
        "            **encoded_text,\n",
        "            forced_bos_token_id=self.tokenizer.lang_code_to_id[target_language],\n",
        "            max_new_tokens=100,\n",
        "            no_repeat_ngram_size=3,\n",
        "            early_stopping=True,\n",
        "            num_beams=4\n",
        "        )\n",
        "        end_time = time.time()\n",
        "\n",
        "        # Giải mã token đầu ra thành văn bản\n",
        "        translated_text = self.tokenizer.decode(generated_tokens[0], skip_special_tokens=True)\n",
        "        translation_time = end_time - start_time\n",
        "\n",
        "        return translated_text, src_lang, translation_time"
      ]
    },
    {
      "cell_type": "markdown",
      "metadata": {
        "id": "ReE4_7VrgCwn"
      },
      "source": [
        "**Các bước chính trong class**\n",
        "\n",
        "1. `__init__()`: **Khởi tạo mô hình và cấu hình cần thiết**\n",
        "- Tải mô hình MBart đã được huấn luyện cho 50 ngôn ngữ từ Hugging Face.\n",
        "- Khởi tạo tokenizer để mã hóa văn bản thành token số.\n",
        "- Tạo bản đồ ánh xạ ngôn ngữ (`lang_map`) để chuyển đổi các mã ngôn ngữ thông thường như `en`, `vi` sang định dạng mà MBart yêu cầu như `en_XX`, `vi_VN`.\n",
        "\n",
        "→ Vì MBart không hiểu mã `\"en\"` hay `\"vi\"`, nó chỉ hoạt động đúng khi được chỉ định ngôn ngữ theo chuẩn riêng của nó."
      ]
    },
    {
      "cell_type": "markdown",
      "metadata": {
        "id": "F5CXq2uyhHwV"
      },
      "source": [
        "2. `detect_language()`: **Tự động phát hiện ngôn ngữ đầu vào**\n",
        "\n",
        "- Sử dụng `langdetect` để đoán ngôn ngữ của đoạn văn bản.\n",
        "- Trả về mã ngôn ngữ tương ứng với định dạng MBart để đặt `tokenizer.src_lang`.\n",
        "\n",
        "→  Nếu không xác định đúng ngôn ngữ gốc thì mô hình có thể dịch sai hoàn toàn.  Việc này giúp hệ thống **tự động hóa** thay vì yêu cầu người dùng chọn tay.\n"
      ]
    },
    {
      "cell_type": "markdown",
      "metadata": {
        "id": "iJSqYCb4hMDy"
      },
      "source": [
        "3. `preprocess_text()`: **Làm sạch văn bản đầu vào**\n",
        "\n",
        "- Xóa khoảng trắng dư thừa, chuẩn hóa định dạng câu.\n",
        "- Tách văn bản thành các câu ngắn, viết hoa chữ cái đầu mỗi câu.\n",
        "\n",
        "→  Mô hình dịch hoạt động tốt hơn khi văn bản có cấu trúc rõ ràng, tránh các lỗi định dạng gây khó hiểu cho model.\n"
      ]
    },
    {
      "cell_type": "markdown",
      "metadata": {
        "id": "Q4D6oKMAhS1Q"
      },
      "source": [
        "4. `translate_text()`: **Dịch văn bản từ ngôn ngữ gốc sang ngôn ngữ đích**\n",
        "\n",
        "Quy trình gồm 4 bước:\n",
        "1. **Phát hiện ngôn ngữ gốc** (`detect_language`)\n",
        "2. **Tiền xử lý văn bản** (`preprocess_text`)\n",
        "3. **Mã hóa đầu vào** → Token hóa → Dịch bằng MBart (`model.generate`)\n",
        "4. **Giải mã đầu ra** → Chuyển token thành văn bản (`tokenizer.decode`)\n",
        "5. **Tính thời gian xử lý**\n",
        "\n",
        "→ Đây là quy trình dịch hoàn chỉnh sử dụng mô hình deep learning dạng seq2seq (sequence-to-sequence). Vì phải chỉ định đúng ngôn ngữ đích thì mô hình mới sinh ra câu đúng ngữ nghĩa.\n"
      ]
    },
    {
      "cell_type": "markdown",
      "metadata": {
        "id": "2XFoz6JAi2a8"
      },
      "source": [
        "## Chương trình chính, xử lý dịch ngôn ngữ và đánh giá hiệu suất"
      ]
    },
    {
      "cell_type": "markdown",
      "metadata": {
        "id": "BeUeuIe5jYye"
      },
      "source": [
        "Hàm `main()` thực hiện toàn bộ quy trình tương tác với người dùng:\n",
        "- Nhận văn bản đầu vào từ người dùng\n",
        "- Tự động phát hiện ngôn ngữ đầu vào bằng `detect_language()`\n",
        "- Dịch văn bản sang các ngôn ngữ còn lại trong danh sách `target_languages`\n",
        "- Hiển thị văn bản gốc, văn bản dịch và thời gian thực hiện từng bản dịch\n",
        "- Đánh giá hiệu suất của từng bản dịch\n",
        "\n",
        "→ Mục tiêu: tạo nên một pipeline dịch tự động đầu-cuối, hỗ trợ hiệu quả cho người dùng."
      ]
    },
    {
      "cell_type": "code",
      "execution_count": null,
      "metadata": {
        "colab": {
          "base_uri": "https://localhost:8080/"
        },
        "id": "VXZP2G1G59bs",
        "outputId": "48113d71-4cee-480d-a14b-048e1a648d11"
      },
      "outputs": [
        {
          "name": "stdout",
          "output_type": "stream",
          "text": [
            "Nhập văn bản cần dịch: Sáng nay thời tiết rất đẹp. Tôi quyết định đi dạo quanh công viên để thư giãn và hít thở không khí trong lành.\n",
            "\n",
            "Ngôn ngữ phát hiện (src): vi_VN\n",
            "\n",
            "Nội dung gốc:\n",
            "Sáng nay thời tiết rất đẹp. Tôi quyết định đi dạo quanh công viên để thư giãn và hít thở không khí trong lành.\n",
            "\n",
            "Văn bản dịch sang Tiếng Anh:\n",
            "This morning it was nice. I decided to go for a walk around the park to relax and to breathe in the fresh air.\n",
            "Thời gian dịch: 13.9844 giây\n",
            "\n",
            "Văn bản dịch sang Tiếng Pháp:\n",
            "Il y a beau temps ce matin, et j'ai décidé de marcher dans le parc pour me détendre et respirer.\n",
            "Thời gian dịch: 15.4097 giây\n",
            "\n",
            "Văn bản dịch sang Tiếng Hàn:\n",
            "오늘 날씨가 좋네요. 저는 산책을 하기로 결심했습니다. 쾌적한 공기를 들을 수 있도록 말이죠.\n",
            "Thời gian dịch: 14.4913 giây\n",
            "\n",
            "--- Đánh giá hiệu suất ---\n",
            "\n",
            "Tiếng Anh:\n",
            "- Độ dài văn bản gốc: 24 từ\n",
            "- Độ dài văn bản dịch: 24 từ\n",
            "- Độ dễ đọc: 93.14\n",
            "- Tính đa dạng từ vựng: 0.88\n",
            "- Độ dài trung bình câu: 12.00 từ/câu\n",
            "- Thời gian dịch: 13.9844 giây\n",
            "\n",
            "Tiếng Pháp:\n",
            "- Độ dài văn bản gốc: 24 từ\n",
            "- Độ dài văn bản dịch: 20 từ\n",
            "- Độ dễ đọc: 76.56\n",
            "- Tính đa dạng từ vựng: 0.95\n",
            "- Độ dài trung bình câu: 20.00 từ/câu\n",
            "- Thời gian dịch: 15.4097 giây\n",
            "\n",
            "Tiếng Hàn:\n",
            "- Độ dài văn bản gốc: 24 từ\n",
            "- Độ dài văn bản dịch: 13 từ\n",
            "- Độ dễ đọc: 117.87\n",
            "- Tính đa dạng từ vựng: 1.00\n",
            "- Độ dài trung bình câu: 4.33 từ/câu\n",
            "- Thời gian dịch: 14.4913 giây\n"
          ]
        }
      ],
      "source": [
        "# Phần 2: Nhập văn bản và dịch sang nhiều ngôn ngữ\n",
        "def main():\n",
        "    original_text = input(\"Nhập văn bản cần dịch: \").strip()\n",
        "    if not original_text:\n",
        "        print(\"Không có nội dung để dịch.\")\n",
        "        return\n",
        "\n",
        "    model = TranslationModel()\n",
        "    detected_lang = model.detect_language(original_text)\n",
        "    print(f\"\\nNgôn ngữ phát hiện (src): {detected_lang}\")\n",
        "\n",
        "    target_languages = {\n",
        "        \"Tiếng Việt\": \"vi_VN\",\n",
        "        \"Tiếng Anh\": \"en_XX\",\n",
        "        \"Tiếng Pháp\": \"fr_XX\",\n",
        "        \"Tiếng Hàn\": \"ko_KR\"\n",
        "    }\n",
        "\n",
        "    translations = {}\n",
        "    for lang, code in target_languages.items():\n",
        "        if code == detected_lang:\n",
        "            continue  # Bỏ qua nếu ngôn ngữ đích trùng với ngôn ngữ gốc\n",
        "        translated_text, _, translation_time = model.translate_text(original_text, code)\n",
        "        translations[lang] = (translated_text, translation_time)\n",
        "\n",
        "    print(\"\\nNội dung gốc:\")\n",
        "    print(original_text)\n",
        "    for language, (translated_text, translation_time) in translations.items():\n",
        "        print(f\"\\nVăn bản dịch sang {language}:\")\n",
        "        print(translated_text)\n",
        "        print(f\"Thời gian dịch: {translation_time:.4f} giây\")\n",
        "\n",
        "# Phần 3: Đánh giá hiệu suất\n",
        "\n",
        "# Gọi hàm đánh giá hiệu suất sau khi dịch\n",
        "    evaluate_translations(translations, original_text)\n",
        "def evaluate_translations(translations, original_text):\n",
        "    print(\"\\n--- Đánh giá hiệu suất ---\")\n",
        "    for language, (translated_text, translation_time) in translations.items():\n",
        "        print(f\"\\n{language}:\")\n",
        "\n",
        "        # Tính độ dài văn bản gốc và văn bản dịch\n",
        "        original_word_count = len(original_text.split())\n",
        "        translated_word_count = len(translated_text.split())\n",
        "\n",
        "        # Tính điểm dễ đọc\n",
        "        readability_score = textstat.flesch_reading_ease(translated_text)\n",
        "\n",
        "        # Tính đa dạng từ vựng (số từ duy nhất / tổng số từ)\n",
        "        unique_words = set(translated_text.split())\n",
        "        lexical_diversity = len(unique_words) / translated_word_count if translated_word_count else 0\n",
        "\n",
        "        # Tính độ dài trung bình câu\n",
        "        sentences = [s for s in translated_text.split('.') if s.strip()]\n",
        "        sentence_lengths = [len(s.split()) for s in sentences]\n",
        "        avg_sentence_length = sum(sentence_lengths) / max(1, len(sentences))\n",
        "\n",
        "        # In kết quả\n",
        "        print(f\"- Độ dài văn bản gốc: {original_word_count} từ\")\n",
        "        print(f\"- Độ dài văn bản dịch: {translated_word_count} từ\")\n",
        "        print(f\"- Độ dễ đọc: {readability_score:.2f}\")\n",
        "        print(f\"- Tính đa dạng từ vựng: {lexical_diversity:.2f}\")\n",
        "        print(f\"- Độ dài trung bình câu: {avg_sentence_length:.2f} từ/câu\")\n",
        "        print(f\"- Thời gian dịch: {translation_time:.4f} giây\")\n",
        "if __name__ == \"__main__\":\n",
        "    main()"
      ]
    },
    {
      "cell_type": "markdown",
      "metadata": {
        "id": "atdrwUXmv9pC"
      },
      "source": [
        "**Đánh giá hiệu suất bản dịch**\n",
        "\n",
        "Sau khi hoàn tất quá trình dịch, chương trình thực hiện đánh giá hiệu suất đầu ra của từng bản dịch thông qua hàm `evaluate_translations()` với các chỉ số quan trọng sau:\n",
        "\n",
        "1. **Độ dài văn bản gốc và bản dịch**:  \n",
        "- So sánh số từ giúp đánh giá mức độ súc tích hay dài dòng của bản dịch so với nội dung gốc.\n",
        "\n",
        "2. **Độ dễ đọc:**\n",
        "- Sử dụng chỉ số `readability_score` để đo mức độ dễ hiểu của bản dịch.  \n",
        "- Giá trị càng cao → văn bản càng dễ đọc.  \n",
        "- Được tính theo công thức:\n",
        "\n",
        "$$\n",
        "\\text{Score} = 206.835 - 1.015 \\times \\left( \\frac{\\text{Tổng số từ}}{\\text{Tổng số câu}} \\right) - 84.6 \\times \\left( \\frac{\\text{Tổng số âm tiết}}{\\text{Tổng số từ}} \\right)\n",
        "$$\n",
        "\n",
        "**Trong đó:**\n",
        "- Tổng số từ: tổng số lượng từ trong văn bản\n",
        "- Tổng số câu: đếm theo dấu câu `. ! ?`\n",
        "- Tổng số âm tiết: đếm số âm tiết trong từng từ (ước lượng theo thư viện `textstat`)\n",
        "\n",
        "3. **Tính đa dạng từ vựng**:  \n",
        "Tính theo công thức:\n",
        "$$\n",
        "\\text{Lexical Diversity} = \\frac{\\text{Số từ duy nhất}}{\\text{Tổng số từ}}\n",
        "$$\n",
        "\n",
        "**Trong đó:**\n",
        "- Số từ duy nhất: là số lượng từ không trùng lặp trong văn bản\n",
        "- Tổng số từ: toàn bộ từ trong văn bản, bao gồm cả từ lặp\n",
        "\n",
        "4. **Độ dài trung bình câu (Average Sentence Length)**:  \n",
        "- Trung bình số từ trên mỗi câu.\n",
        "- Giá trị cao có thể chỉ ra văn phong học thuật hoặc văn bản dài dòng; giá trị thấp thường là ngôn ngữ đơn giản, trực tiếp.\n",
        "- Được tính theo công thức:\n",
        "\n",
        "$$\n",
        "\\text{Average Sentence Length} = \\frac{\\text{Tổng số từ}}{\\text{Tổng số câu}}\n",
        "$$\n",
        "\n",
        "**Trong đó:**\n",
        "- Tổng số từ: toàn bộ từ trong văn bản\n",
        "- Tổng số câu: đếm bằng cách phân chia theo các dấu câu kết thúc như `. ! ?`\n",
        "\n",
        "5. **Thời gian dịch (Translation Time)**:  \n",
        "  Là thời gian tính bằng giây để mô hình sinh ra bản dịch. Giá trị này giúp đánh giá hiệu suất thực thi của hệ thống.\n",
        "\n",
        "→ Các chỉ số trên không chỉ phản ánh chất lượng ngôn ngữ đầu ra, mà còn giúp người dùng có cái nhìn định lượng để so sánh các bản dịch giữa các ngôn ngữ khác nhau hoặc giữa các mô hình dịch khác nhau."
      ]
    },
    {
      "cell_type": "markdown",
      "metadata": {
        "id": "cRCGbKdGCNSj"
      },
      "source": [
        "#NỘI DUNG 3: TÍCH HỢP NHẬN DIỆN GIỌNG NÓI - DỊCH THUẬT NGÔN NGỮ"
      ]
    },
    {
      "cell_type": "markdown",
      "metadata": {
        "id": "ZQ-WPVZW2Uhx"
      },
      "source": [
        "Ở nội dung 3, nhóm ban đầu dự định sử dụng các mô hình deep learning như Wav2Vec2 (nhận diện giọng nói) và MBart (dịch ngôn ngữ) để xây dựng một pipeline xử lý âm thanh – dịch – hiển thị hoàn toàn tự động."
      ]
    },
    {
      "cell_type": "markdown",
      "metadata": {
        "id": "jGIy99rp2cS_"
      },
      "source": [
        "Tuy nhiên, trong quá trình thực hiện, nhóm gặp phải hạn chế về hiệu năng và tài nguyên khi triển khai mô hình deep learning trên môi trường VS Code:\n",
        "\n",
        "- Các mô hình như Wav2Vec2 yêu cầu dung lượng RAM lớn, khả năng xử lý song song (GPU) và nhiều thư viện chuyên dụng về xử lý tín hiệu âm thanh.\n",
        "\n",
        "- Quá trình tải mô hình, khởi tạo tokenizer, và convert định dạng âm thanh tốn nhiều thời gian và không đảm bảo ổn định trong điều kiện thiết bị hiện có.\n"
      ]
    },
    {
      "cell_type": "markdown",
      "metadata": {
        "id": "TkIWIeGx2i04"
      },
      "source": [
        "Vì vậy, nhóm chuyển sang sử dụng các thư viện nhẹ hơn như `speech_recognition`(dựa trên Google Web Speech API) và googletrans để đảm bảo khả năng chạy mượt, dễ thử nghiệm và dễ tích hợp vào giao diện trong môi trường VS Code.\n",
        "Trong tương lai, nếu được triển khai trên môi trường mạnh hơn (Google Colab Pro, server GPU hoặc nền tảng cloud), nhóm hoàn toàn có thể tái cấu trúc lại hệ thống để tích hợp hoàn toàn các mô hình deep learning như mong muốn ban đầu."
      ]
    },
    {
      "cell_type": "markdown",
      "metadata": {
        "id": "82rzSSSe22cT"
      },
      "source": [
        "Trong tương lai, nếu được triển khai trên môi trường mạnh hơn (Google Colab Pro, server GPU hoặc nền tảng cloud), nhóm có thể tái cấu trúc lại hệ thống để tích hợp hoàn toàn các mô hình deep learning như mong muốn ban đầu."
      ]
    },
    {
      "cell_type": "markdown",
      "metadata": {
        "id": "xoEQdNtw3dth"
      },
      "source": [
        "Dù không sử dụng deep learning, chương trình mà nhóm phát triển vẫn có cải tiến rõ rệt so với các công cụ dịch truyền thống nhờ vào:\n",
        "- **Khả năng kết hợp nhận diện giọng nói + dịch ngôn ngữ + phản hồi văn bản** trong cùng một pipeline\n",
        "- **Tối ưu hóa luồng xử lý**, tự động hóa từ đầu vào giọng nói đến đầu ra là bản dịch, thay vì yêu cầu thao tác thủ công từng bước\n",
        "- Có thể tích hợp vào các ứng dụng thực tế như hỗ trợ giao tiếp song ngữ, dịch hội thoại.\n"
      ]
    },
    {
      "cell_type": "markdown",
      "metadata": {
        "id": "J30yICOv3ESR"
      },
      "source": [
        "## Cài đặt thư viện"
      ]
    },
    {
      "cell_type": "code",
      "execution_count": null,
      "metadata": {
        "id": "Mj9rdg2pSH1B"
      },
      "outputs": [],
      "source": [
        "!pip install googletrans==4.0.0-rc1 gtts\n",
        "!pip install speechrecognition\n",
        "!pip install pygame\n",
        "!pip install tkinker\n",
        "!pip install pyaudio"
      ]
    },
    {
      "cell_type": "markdown",
      "metadata": {
        "id": "sHA3mxOx4HpF"
      },
      "source": [
        "## Import các thư viện"
      ]
    },
    {
      "cell_type": "code",
      "execution_count": null,
      "metadata": {
        "id": "fsPaCG4a4G62"
      },
      "outputs": [],
      "source": [
        "import tkinter as tk\n",
        "from tkinter import ttk\n",
        "from tkinter import messagebox\n",
        "import speech_recognition as sr\n",
        "from googletrans import Translator\n",
        "from gtts import gTTS\n",
        "import pygame\n",
        "import os"
      ]
    },
    {
      "cell_type": "markdown",
      "metadata": {
        "id": "hdscz2cs4cTF"
      },
      "source": [
        "**Các thư viện được sử dụng trong chương trình bao gồm:**\n",
        "\n",
        "- `tkinter`, `ttk`, `messagebox`: dùng để xây dựng **giao diện đồ họa (GUI)** tương tác với người dùng\n",
        "- `speech_recognition`: thư viện **nhận diện giọng nói** từ microphone đầu vào\n",
        "- `googletrans`: sử dụng API không chính thức của Google Translate để **dịch ngôn ngữ**\n",
        "- `gtts`: dùng để **chuyển văn bản thành giọng nói**\n",
        "- `pygame`: hỗ trợ **phát âm thanh** từ file `.mp3` sau khi chuyển văn bản thành tiếng\n",
        "- `os`: xử lý các thao tác hệ thống như lưu, xóa file âm thanh tạm thời\n",
        "\n",
        "→ Việc kết hợp các thư viện trên giúp chương trình có thể thực hiện đầy đủ quy trình:  \n",
        "> **nghe giọng nói ➜ chuyển thành văn bản ➜ dịch ngôn ngữ ➜ phát âm bản dịch**.\n"
      ]
    },
    {
      "cell_type": "markdown",
      "metadata": {
        "id": "2Vf469Tf5I5u"
      },
      "source": [
        "## Ứng dụng GUI: Nhận diện giọng nói và dịch ngôn ngữ đa ngữ\n"
      ]
    },
    {
      "cell_type": "markdown",
      "metadata": {
        "id": "5BQ0EPe45Okm"
      },
      "source": [
        "Chương trình này sử dụng thư viện `tkinter` để xây dựng giao diện tương tác, kết hợp với:\n",
        "- `speech_recognition` để nhận diện giọng nói từ micro\n",
        "- `googletrans` để dịch văn bản sang nhiều ngôn ngữ\n",
        "- `gtts` + `pygame` để đọc lại nội dung đã nhận hoặc dịch\n",
        "\n",
        "Người dùng có thể:\n",
        "- Chọn ngôn ngữ cần nói\n",
        "- Bấm ghi âm → văn bản được hiển thị\n",
        "- Chọn ngôn ngữ cần dịch (chọn được nhiều ngôn ngữ) → bản dịch hiện ra và được phát âm lại"
      ]
    },
    {
      "cell_type": "markdown",
      "metadata": {
        "id": "fcPZOSiZ5poc"
      },
      "source": [
        "**So sánh với công cụ dịch thuật truyền thống (ví dụ: Google Dịch):**\n",
        "\n",
        "| Tiêu chí                            | Công cụ truyền thống      | Ứng dụng nhóm phát triển |\n",
        "|------------------------------------|----------------------------|---------------------------|\n",
        "| Nhận diện giọng nói                | ✅ Có | ✅ Có |\n",
        "| Dịch đa ngôn ngữ cùng lúc          | ❌ Dịch từng ngôn ngữ thủ công | ✅ Dịch nhiều ngôn ngữ chỉ với 1 thao tác |\n",
        "| Phản hồi âm thanh bản dịch         | ❌ Giới hạn  | ✅ Tự động phát âm sau dịch |\n",
        "| Tùy biến giao diện người dùng (UI) | ❌ Không                   | ✅ Có thể chỉnh sửa, tích hợp thêm chức năng |\n",
        "| Tính chủ động (offline, gọn nhẹ)   | ❌ Phụ thuộc trình duyệt   | ✅ Chạy độc lập trên máy |"
      ]
    },
    {
      "cell_type": "code",
      "execution_count": null,
      "metadata": {
        "id": "YtFOZ3DKSPGJ"
      },
      "outputs": [],
      "source": [
        "# Hàm chuyển giọng nói thành văn bản\n",
        "def recognize_speech(language):\n",
        "    recognizer = sr.Recognizer()\n",
        "    with sr.Microphone() as source:\n",
        "        messagebox.showinfo(\"Hướng dẫn\", \"Vui lòng nói sau khi nghe tiếng bíp\", parent=app)\n",
        "        try:\n",
        "            recognizer.adjust_for_ambient_noise(source)\n",
        "            audio = recognizer.listen(source)\n",
        "            text = recognizer.recognize_google(audio, language=language)\n",
        "            return text\n",
        "        except sr.UnknownValueError:\n",
        "            return \"Không thể nhận diện giọng nói.\"\n",
        "        except sr.RequestError:\n",
        "            return \"Lỗi kết nối đến dịch vụ nhận diện giọng nói.\"\n",
        "\n",
        "# Hàm đọc văn bản với ngôn ngữ cụ thể (sử dụng gTTS và pygame)\n",
        "def speak_text(text, language):\n",
        "    try:\n",
        "        tts = gTTS(text=text, lang=language, slow=False)\n",
        "        temp_audio_file = \"temp_audio.mp3\"\n",
        "        tts.save(temp_audio_file)\n",
        "\n",
        "        pygame.mixer.init()\n",
        "        pygame.mixer.music.load(temp_audio_file)\n",
        "        pygame.mixer.music.play()\n",
        "\n",
        "        while pygame.mixer.music.get_busy():\n",
        "            continue\n",
        "\n",
        "        pygame.mixer.music.unload()\n",
        "        os.remove(temp_audio_file)\n",
        "    except Exception as e:\n",
        "        messagebox.showerror(\"Lỗi\", f\"Không thể đọc văn bản: {e}\")\n",
        "\n",
        "# Hàm xử lý giọng nói thành văn bản\n",
        "def handle_speech_to_text():\n",
        "    language_mapping = {\n",
        "        \"Tiếng Anh\": \"en\",\n",
        "        \"Tiếng Pháp\": \"fr\",\n",
        "        \"Tiếng Hàn\": \"ko\",\n",
        "        \"Tiếng Việt\": \"vi\",\n",
        "    }\n",
        "\n",
        "    selected_language = language_var.get()\n",
        "    if not selected_language:\n",
        "        messagebox.showerror(\"Lỗi\", \"Vui lòng chọn ngôn ngữ trước khi nói.\")\n",
        "        return\n",
        "\n",
        "    recognized_text = recognize_speech(language_mapping[selected_language])\n",
        "    text_output.delete(1.0, tk.END)\n",
        "    text_output.insert(tk.END, recognized_text)\n",
        "    speak_text(recognized_text, language_mapping[selected_language])  # Đọc văn bản theo ngôn ngữ\n",
        "\n",
        "# Hàm dịch văn bản\n",
        "def translate_text(text, dest_language):\n",
        "    translator = Translator()\n",
        "    try:\n",
        "        translated = translator.translate(text, dest=dest_language)\n",
        "        return translated.text\n",
        "    except Exception as e:\n",
        "        return f\"Lỗi khi dịch: {e}\"\n",
        "\n",
        "# Hàm xử lý dịch văn bản\n",
        "def handle_translate():\n",
        "    language_mapping = {\n",
        "        \"Tiếng Anh\": \"en\",\n",
        "        \"Tiếng Pháp\": \"fr\",\n",
        "        \"Tiếng Hàn\": \"ko\",\n",
        "        \"Tiếng Việt\": \"vi\",\n",
        "    }\n",
        "\n",
        "    selected_languages = [lang for lang, var in translation_vars.items() if var.get() == 1]\n",
        "    if not selected_languages:\n",
        "        messagebox.showerror(\"Lỗi\", \"Vui lòng chọn ít nhất một ngôn ngữ để dịch.\")\n",
        "        return\n",
        "\n",
        "    input_text = text_output.get(1.0, tk.END).strip()\n",
        "    if not input_text:\n",
        "        messagebox.showerror(\"Lỗi\", \"Vui lòng nhập hoặc chuyển giọng nói thành văn bản trước khi dịch.\")\n",
        "        return\n",
        "\n",
        "    translated_output.delete(1.0, tk.END)\n",
        "    for lang in selected_languages:\n",
        "        dest_language = language_mapping[lang]\n",
        "        translated_text = translate_text(input_text, dest_language)\n",
        "        translated_output.insert(tk.END, f\"{lang}: {translated_text}\\n\")\n",
        "        speak_text(translated_text, dest_language)  # Đọc văn bản đã dịch\n",
        "\n",
        "# Giao diện chính\n",
        "app = tk.Tk()\n",
        "app.title(\"Ứng dụng chuyển giọng nói sang văn bản và dịch ngôn ngữ\")\n",
        "\n",
        "# Phần chọn ngôn ngữ giọng nói\n",
        "language_var = tk.StringVar()\n",
        "language_label = ttk.Label(app, text=\"Chọn ngôn ngữ để nói:\")\n",
        "language_label.pack()\n",
        "\n",
        "language_options = [\"Tiếng Anh\", \"Tiếng Pháp\", \"Tiếng Hàn\", \"Tiếng Việt\"]\n",
        "for option in language_options:\n",
        "    ttk.Radiobutton(app, text=option, variable=language_var, value=option).pack(anchor=tk.W)\n",
        "\n",
        "# Nút chuyển giọng nói thành văn bản\n",
        "speech_to_text_button = ttk.Button(app, text=\"Chuyển giọng nói thành văn bản\", command=handle_speech_to_text)\n",
        "speech_to_text_button.pack(pady=10)\n",
        "\n",
        "# Ô hiển thị văn bản\n",
        "text_output = tk.Text(app, height=10, width=50)\n",
        "text_output.pack(pady=10)\n",
        "\n",
        "# Phần chọn ngôn ngữ dịch\n",
        "translation_vars = {lang: tk.IntVar() for lang in language_options}\n",
        "translation_label = ttk.Label(app, text=\"Chọn ngôn ngữ để dịch sang:\")\n",
        "translation_label.pack()\n",
        "\n",
        "for option in language_options:\n",
        "    ttk.Checkbutton(app, text=option, variable=translation_vars[option]).pack(anchor=tk.W)\n",
        "\n",
        "# Nút dịch văn bản\n",
        "translate_button = ttk.Button(app, text=\"Dịch văn bản\", command=handle_translate)\n",
        "translate_button.pack(pady=10)\n",
        "\n",
        "# Ô hiển thị văn bản đã dịch\n",
        "translated_output = tk.Text(app, height=10, width=50)\n",
        "translated_output.pack(pady=10)\n",
        "\n",
        "app.mainloop()"
      ]
    },
    {
      "cell_type": "markdown",
      "metadata": {
        "id": "ITkVURr565Fo"
      },
      "source": [
        "**Các thành phần và chức năng chính:**\n",
        "\n",
        "1. `recognize_speech(language)`\n",
        "- Nhận diện giọng nói từ micro sử dụng thư viện `speech_recognition`\n",
        "- Tự động điều chỉnh theo tiếng ồn môi trường (`adjust_for_ambient_noise`)\n",
        "- Dùng `recognize_google()` để chuyển audio thành văn bản theo ngôn ngữ đã chọn\n",
        "- Báo lỗi nếu không nghe thấy hoặc không kết nối được\n",
        "\n",
        "2. `speak_text(text, language)`\n",
        "- Dùng `gTTS` để chuyển văn bản sang file âm thanh `.mp3` theo ngôn ngữ chỉ định\n",
        "- Phát âm thanh đó bằng `pygame.mixer`\n",
        "- Tự động xóa file sau khi phát để tiết kiệm tài nguyên\n",
        "\n",
        "3. `handle_speech_to_text()`\n",
        "- Hàm trung gian xử lý khi người dùng bấm nút \"Chuyển giọng nói thành văn bản\"\n",
        "- Gọi `recognize_speech()` và đưa kết quả vào `text_output`\n",
        "- Tự động phát lại câu vừa nhận dạng bằng `speak_text()`\n",
        "\n",
        "4. `translate_text(text, dest_language)`\n",
        "- Sử dụng `googletrans` để dịch văn bản đầu vào sang ngôn ngữ đích\n",
        "- Trả về văn bản đã dịch (hoặc thông báo lỗi nếu có)\n",
        "\n",
        "5. `handle_translate()`\n",
        "- Hàm trung gian xử lý khi người dùng chọn ngôn ngữ dịch và bấm nút \"Dịch\"\n",
        "- Lấy nội dung văn bản gốc từ `text_output`\n",
        "- Dịch lần lượt sang từng ngôn ngữ được chọn\n",
        "- Hiển thị các bản dịch vào `translated_output`\n",
        "- Đồng thời gọi `speak_text()` để phát lại âm thanh bản dịch\n"
      ]
    },
    {
      "cell_type": "markdown",
      "metadata": {
        "id": "fzZNxHpz7MYI"
      },
      "source": [
        "## Kết luận\n",
        "\n",
        "Ứng dụng được xây dựng trong nội dung này là minh chứng cho khả năng **tích hợp hiệu quả nhiều công cụ xử lý ngôn ngữ truyền thống** để tạo ra một pipeline đơn giản nhưng **thực tiễn và tiện dụng**.\n",
        "\n",
        "Mặc dù **không sử dụng các mô hình deep learning phức tạp**, hệ thống vẫn thể hiện được:\n",
        "- Tính tự động hóa cao: từ thu âm → nhận dạng → dịch đa ngôn ngữ → phát lại\n",
        "- Giao diện thân thiện, dễ thao tác, phù hợp cho người dùng phổ thông\n",
        "- Khả năng mở rộng dễ dàng: có thể nâng cấp để xử lý nâng cao hơn như lưu lịch sử, hỗ trợ nhiều ngôn ngữ hơn, hoặc chuyển sang mô hình deep learning khi có điều kiện hạ tầng\n",
        "\n",
        "> Tổng thể, chương trình đã hoàn thành **mục tiêu nghiên cứu ban đầu**: tạo ra một công cụ chuyển giọng nói thành văn bản và dịch ngôn ngữ nhanh chóng, tiện lợi, đồng thời là nền tảng tốt để phát triển các ứng dụng giao tiếp song ngữ thông minh trong tương lai.\n"
      ]
    },
    {
      "cell_type": "markdown",
      "metadata": {
        "vscode": {
          "languageId": "ini"
        }
      },
      "source": [
        "## Những khó khăn khi thực hiện bài nghiên cứu này và cách chúng tôi đã khắc phục\n",
        "\n",
        "**1. Hạn chế về tài nguyên phần cứng (RAM, GPU):**\n",
        "- Các mô hình deep learning như Wav2Vec2, MBart yêu cầu bộ nhớ lớn và khả năng xử lý mạnh, gây khó khăn khi chạy trên máy cá nhân.\n",
        "- **Khắc phục:** Chuyển sang sử dụng các thư viện nhẹ hơn như `speech_recognition`, `googletrans` cho phần tích hợp, đồng thời tối ưu hóa việc cache mô hình và giảm kích thước dữ liệu đầu vào.\n",
        "\n",
        "**2. Thời gian tải và khởi tạo mô hình lâu:**\n",
        "- Việc tải mô hình từ Hugging Face và khởi tạo tokenizer mất nhiều thời gian, ảnh hưởng đến trải nghiệm người dùng.\n",
        "- **Khắc phục:** Sử dụng cache để lưu trữ mô hình và processor sau lần tải đầu tiên, tránh tải lại nhiều lần.\n",
        "\n",
        "**3. Xử lý định dạng và chất lượng âm thanh đầu vào:**\n",
        "- Các mô hình yêu cầu âm thanh đầu vào phải đúng định dạng (sampling rate 16kHz, mono).\n",
        "- **Khắc phục:** Xây dựng hàm tiền xử lý tự động chuẩn hóa âm thanh về đúng định dạng trước khi đưa vào mô hình.\n",
        "\n",
        "**4. Độ chính xác nhận diện và dịch phụ thuộc vào chất lượng dữ liệu:**\n",
        "- Nếu âm thanh nhiễu hoặc văn bản đầu vào không chuẩn hóa, kết quả nhận diện/dịch có thể sai lệch.\n",
        "- **Khắc phục:** Thêm các bước kiểm tra, làm sạch dữ liệu đầu vào, loại bỏ văn bản rác và chuẩn hóa câu chữ.\n",
        "\n",
        "**5. Tích hợp nhiều thư viện và mô hình khác nhau:**\n",
        "- Việc kết hợp các thư viện truyền thống với mô hình deep learning có thể gây xung đột hoặc lỗi phụ thuộc.\n",
        "- **Khắc phục:** kiểm soát phiên bản thư viện, kiểm thử từng thành phần độc lập trước khi tích hợp.\n",
        "\n",
        "**6. Giao diện người dùng và trải nghiệm sử dụng:**\n",
        "- Việc xây dựng giao diện trực quan, dễ sử dụng cho người dùng không chuyên là một thách thức.\n",
        "- **Khắc phục:** Sử dụng Gradio và Tkinter để tạo giao diện web và desktop đơn giản, thân thiện, dễ thao tác.\n"
      ]
    },
    {
      "cell_type": "markdown",
      "metadata": {
        "vscode": {
          "languageId": "ini"
        }
      },
      "source": [
        "#### Dịch thuật nâng cao trong bài này là việc sử dụng các mô hình deep learning hiện đại (như MBart, MarianMT)\n",
        "\n",
        "    \"Dịch thuật nâng cao trong bài là sử dụng mô hình deep learning để tự động phát hiện ngôn ngữ nguồn, \"\n",
        "    \"dịch sang nhiều ngôn ngữ đích cùng lúc và đánh giá chất lượng bản dịch bằng các chỉ số định lượng \"\n",
        "    \"(độ dễ đọc, đa dạng từ vựng, độ dài câu...). Điều này giúp tăng tính tự động hóa, hiệu quả và kiểm soát chất lượng bản dịch.\"\n"
      ]
    }
  ],
  "metadata": {
    "colab": {
      "collapsed_sections": [
        "GgCgAsr2oykM",
        "_PWFbtNjnk9F",
        "_g7tJ0PMnop4"
      ],
      "provenance": []
    },
    "kernelspec": {
      "display_name": "Python 3",
      "name": "python3"
    },
    "language_info": {
      "name": "python",
      "version": "3.13.2"
    },
    "widgets": {
      "application/vnd.jupyter.widget-state+json": {
        "0593b9c049e74926b1b9df301edd4744": {
          "model_module": "@jupyter-widgets/controls",
          "model_module_version": "1.5.0",
          "model_name": "HBoxModel",
          "state": {
            "_dom_classes": [],
            "_model_module": "@jupyter-widgets/controls",
            "_model_module_version": "1.5.0",
            "_model_name": "HBoxModel",
            "_view_count": null,
            "_view_module": "@jupyter-widgets/controls",
            "_view_module_version": "1.5.0",
            "_view_name": "HBoxView",
            "box_style": "",
            "children": [
              "IPY_MODEL_ffe0f81b275542dcab20e94d5bcd16b6",
              "IPY_MODEL_0bd4c79f36254df7934c2c202c9a775e",
              "IPY_MODEL_5a56347635cc4fb5a93bb623edd8e8aa"
            ],
            "layout": "IPY_MODEL_f41774342af44c96b2465ed36d402c24"
          }
        },
        "09d662f3110f4a6e9aa3ccc75ff82861": {
          "model_module": "@jupyter-widgets/controls",
          "model_module_version": "1.5.0",
          "model_name": "DescriptionStyleModel",
          "state": {
            "_model_module": "@jupyter-widgets/controls",
            "_model_module_version": "1.5.0",
            "_model_name": "DescriptionStyleModel",
            "_view_count": null,
            "_view_module": "@jupyter-widgets/base",
            "_view_module_version": "1.2.0",
            "_view_name": "StyleView",
            "description_width": ""
          }
        },
        "0bd4c79f36254df7934c2c202c9a775e": {
          "model_module": "@jupyter-widgets/controls",
          "model_module_version": "1.5.0",
          "model_name": "FloatProgressModel",
          "state": {
            "_dom_classes": [],
            "_model_module": "@jupyter-widgets/controls",
            "_model_module_version": "1.5.0",
            "_model_name": "FloatProgressModel",
            "_view_count": null,
            "_view_module": "@jupyter-widgets/controls",
            "_view_module_version": "1.5.0",
            "_view_name": "ProgressView",
            "bar_style": "success",
            "description": "",
            "description_tooltip": null,
            "layout": "IPY_MODEL_bea2dfe94fb34791985df85e78cad6ff",
            "max": 1266747952,
            "min": 0,
            "orientation": "horizontal",
            "style": "IPY_MODEL_6297e56ac00e42f0bd0e7459126e2dba",
            "value": 1266747952
          }
        },
        "0c001ec2272448489504597e3a50db92": {
          "model_module": "@jupyter-widgets/controls",
          "model_module_version": "1.5.0",
          "model_name": "HTMLModel",
          "state": {
            "_dom_classes": [],
            "_model_module": "@jupyter-widgets/controls",
            "_model_module_version": "1.5.0",
            "_model_name": "HTMLModel",
            "_view_count": null,
            "_view_module": "@jupyter-widgets/controls",
            "_view_module_version": "1.5.0",
            "_view_name": "HTMLView",
            "description": "",
            "description_tooltip": null,
            "layout": "IPY_MODEL_bbdc0ef10f8146c692b64a7f7a5c553b",
            "placeholder": "​",
            "style": "IPY_MODEL_630e93c51fb64c26bc9011274f9ba6ba",
            "value": " 161/161 [00:00&lt;00:00, 8.24kB/s]"
          }
        },
        "155aab22dd844a5fa123ca047d72fa5f": {
          "model_module": "@jupyter-widgets/controls",
          "model_module_version": "1.5.0",
          "model_name": "HTMLModel",
          "state": {
            "_dom_classes": [],
            "_model_module": "@jupyter-widgets/controls",
            "_model_module_version": "1.5.0",
            "_model_name": "HTMLModel",
            "_view_count": null,
            "_view_module": "@jupyter-widgets/controls",
            "_view_module_version": "1.5.0",
            "_view_name": "HTMLView",
            "description": "",
            "description_tooltip": null,
            "layout": "IPY_MODEL_1db8eb90c9a54c02b69b5f5e0f94337d",
            "placeholder": "​",
            "style": "IPY_MODEL_09d662f3110f4a6e9aa3ccc75ff82861",
            "value": "tokenizer_config.json: 100%"
          }
        },
        "15e37eda85c54ce3a786863563977f97": {
          "model_module": "@jupyter-widgets/controls",
          "model_module_version": "1.5.0",
          "model_name": "ProgressStyleModel",
          "state": {
            "_model_module": "@jupyter-widgets/controls",
            "_model_module_version": "1.5.0",
            "_model_name": "ProgressStyleModel",
            "_view_count": null,
            "_view_module": "@jupyter-widgets/base",
            "_view_module_version": "1.2.0",
            "_view_name": "StyleView",
            "bar_color": null,
            "description_width": ""
          }
        },
        "17f1ee27ec8b4680b11190a710c5b3c5": {
          "model_module": "@jupyter-widgets/controls",
          "model_module_version": "1.5.0",
          "model_name": "FloatProgressModel",
          "state": {
            "_dom_classes": [],
            "_model_module": "@jupyter-widgets/controls",
            "_model_module_version": "1.5.0",
            "_model_name": "FloatProgressModel",
            "_view_count": null,
            "_view_module": "@jupyter-widgets/controls",
            "_view_module_version": "1.5.0",
            "_view_name": "ProgressView",
            "bar_style": "success",
            "description": "",
            "description_tooltip": null,
            "layout": "IPY_MODEL_40c1509091cd42e4b62ebbb0ac78baa2",
            "max": 2313,
            "min": 0,
            "orientation": "horizontal",
            "style": "IPY_MODEL_3d6f428df3ea4f538ee33c19a5c660d8",
            "value": 2313
          }
        },
        "193503143db64764a4842821f17f95c9": {
          "model_module": "@jupyter-widgets/base",
          "model_module_version": "1.2.0",
          "model_name": "LayoutModel",
          "state": {
            "_model_module": "@jupyter-widgets/base",
            "_model_module_version": "1.2.0",
            "_model_name": "LayoutModel",
            "_view_count": null,
            "_view_module": "@jupyter-widgets/base",
            "_view_module_version": "1.2.0",
            "_view_name": "LayoutView",
            "align_content": null,
            "align_items": null,
            "align_self": null,
            "border": null,
            "bottom": null,
            "display": null,
            "flex": null,
            "flex_flow": null,
            "grid_area": null,
            "grid_auto_columns": null,
            "grid_auto_flow": null,
            "grid_auto_rows": null,
            "grid_column": null,
            "grid_gap": null,
            "grid_row": null,
            "grid_template_areas": null,
            "grid_template_columns": null,
            "grid_template_rows": null,
            "height": null,
            "justify_content": null,
            "justify_items": null,
            "left": null,
            "margin": null,
            "max_height": null,
            "max_width": null,
            "min_height": null,
            "min_width": null,
            "object_fit": null,
            "object_position": null,
            "order": null,
            "overflow": null,
            "overflow_x": null,
            "overflow_y": null,
            "padding": null,
            "right": null,
            "top": null,
            "visibility": null,
            "width": null
          }
        },
        "1c374c24b76748989ba5966cc7b8d957": {
          "model_module": "@jupyter-widgets/base",
          "model_module_version": "1.2.0",
          "model_name": "LayoutModel",
          "state": {
            "_model_module": "@jupyter-widgets/base",
            "_model_module_version": "1.2.0",
            "_model_name": "LayoutModel",
            "_view_count": null,
            "_view_module": "@jupyter-widgets/base",
            "_view_module_version": "1.2.0",
            "_view_name": "LayoutView",
            "align_content": null,
            "align_items": null,
            "align_self": null,
            "border": null,
            "bottom": null,
            "display": null,
            "flex": null,
            "flex_flow": null,
            "grid_area": null,
            "grid_auto_columns": null,
            "grid_auto_flow": null,
            "grid_auto_rows": null,
            "grid_column": null,
            "grid_gap": null,
            "grid_row": null,
            "grid_template_areas": null,
            "grid_template_columns": null,
            "grid_template_rows": null,
            "height": null,
            "justify_content": null,
            "justify_items": null,
            "left": null,
            "margin": null,
            "max_height": null,
            "max_width": null,
            "min_height": null,
            "min_width": null,
            "object_fit": null,
            "object_position": null,
            "order": null,
            "overflow": null,
            "overflow_x": null,
            "overflow_y": null,
            "padding": null,
            "right": null,
            "top": null,
            "visibility": null,
            "width": null
          }
        },
        "1db8eb90c9a54c02b69b5f5e0f94337d": {
          "model_module": "@jupyter-widgets/base",
          "model_module_version": "1.2.0",
          "model_name": "LayoutModel",
          "state": {
            "_model_module": "@jupyter-widgets/base",
            "_model_module_version": "1.2.0",
            "_model_name": "LayoutModel",
            "_view_count": null,
            "_view_module": "@jupyter-widgets/base",
            "_view_module_version": "1.2.0",
            "_view_name": "LayoutView",
            "align_content": null,
            "align_items": null,
            "align_self": null,
            "border": null,
            "bottom": null,
            "display": null,
            "flex": null,
            "flex_flow": null,
            "grid_area": null,
            "grid_auto_columns": null,
            "grid_auto_flow": null,
            "grid_auto_rows": null,
            "grid_column": null,
            "grid_gap": null,
            "grid_row": null,
            "grid_template_areas": null,
            "grid_template_columns": null,
            "grid_template_rows": null,
            "height": null,
            "justify_content": null,
            "justify_items": null,
            "left": null,
            "margin": null,
            "max_height": null,
            "max_width": null,
            "min_height": null,
            "min_width": null,
            "object_fit": null,
            "object_position": null,
            "order": null,
            "overflow": null,
            "overflow_x": null,
            "overflow_y": null,
            "padding": null,
            "right": null,
            "top": null,
            "visibility": null,
            "width": null
          }
        },
        "203288ba52ad46bbb2f9ae4cae9f36c1": {
          "model_module": "@jupyter-widgets/base",
          "model_module_version": "1.2.0",
          "model_name": "LayoutModel",
          "state": {
            "_model_module": "@jupyter-widgets/base",
            "_model_module_version": "1.2.0",
            "_model_name": "LayoutModel",
            "_view_count": null,
            "_view_module": "@jupyter-widgets/base",
            "_view_module_version": "1.2.0",
            "_view_name": "LayoutView",
            "align_content": null,
            "align_items": null,
            "align_self": null,
            "border": null,
            "bottom": null,
            "display": null,
            "flex": null,
            "flex_flow": null,
            "grid_area": null,
            "grid_auto_columns": null,
            "grid_auto_flow": null,
            "grid_auto_rows": null,
            "grid_column": null,
            "grid_gap": null,
            "grid_row": null,
            "grid_template_areas": null,
            "grid_template_columns": null,
            "grid_template_rows": null,
            "height": null,
            "justify_content": null,
            "justify_items": null,
            "left": null,
            "margin": null,
            "max_height": null,
            "max_width": null,
            "min_height": null,
            "min_width": null,
            "object_fit": null,
            "object_position": null,
            "order": null,
            "overflow": null,
            "overflow_x": null,
            "overflow_y": null,
            "padding": null,
            "right": null,
            "top": null,
            "visibility": null,
            "width": null
          }
        },
        "23316c9768ad4c68beb1a85698b8aa15": {
          "model_module": "@jupyter-widgets/base",
          "model_module_version": "1.2.0",
          "model_name": "LayoutModel",
          "state": {
            "_model_module": "@jupyter-widgets/base",
            "_model_module_version": "1.2.0",
            "_model_name": "LayoutModel",
            "_view_count": null,
            "_view_module": "@jupyter-widgets/base",
            "_view_module_version": "1.2.0",
            "_view_name": "LayoutView",
            "align_content": null,
            "align_items": null,
            "align_self": null,
            "border": null,
            "bottom": null,
            "display": null,
            "flex": null,
            "flex_flow": null,
            "grid_area": null,
            "grid_auto_columns": null,
            "grid_auto_flow": null,
            "grid_auto_rows": null,
            "grid_column": null,
            "grid_gap": null,
            "grid_row": null,
            "grid_template_areas": null,
            "grid_template_columns": null,
            "grid_template_rows": null,
            "height": null,
            "justify_content": null,
            "justify_items": null,
            "left": null,
            "margin": null,
            "max_height": null,
            "max_width": null,
            "min_height": null,
            "min_width": null,
            "object_fit": null,
            "object_position": null,
            "order": null,
            "overflow": null,
            "overflow_x": null,
            "overflow_y": null,
            "padding": null,
            "right": null,
            "top": null,
            "visibility": null,
            "width": null
          }
        },
        "286d48710b3d4b5e8c87c286147d8477": {
          "model_module": "@jupyter-widgets/controls",
          "model_module_version": "1.5.0",
          "model_name": "HTMLModel",
          "state": {
            "_dom_classes": [],
            "_model_module": "@jupyter-widgets/controls",
            "_model_module_version": "1.5.0",
            "_model_name": "HTMLModel",
            "_view_count": null,
            "_view_module": "@jupyter-widgets/controls",
            "_view_module_version": "1.5.0",
            "_view_name": "HTMLView",
            "description": "",
            "description_tooltip": null,
            "layout": "IPY_MODEL_79e3444db2944c03b9cd778dc52cc185",
            "placeholder": "​",
            "style": "IPY_MODEL_4c8115456ed244b894defe84afa76d38",
            "value": " 214/214 [00:00&lt;00:00, 11.6kB/s]"
          }
        },
        "28fcc100a2a345baa66a086161784138": {
          "model_module": "@jupyter-widgets/base",
          "model_module_version": "1.2.0",
          "model_name": "LayoutModel",
          "state": {
            "_model_module": "@jupyter-widgets/base",
            "_model_module_version": "1.2.0",
            "_model_name": "LayoutModel",
            "_view_count": null,
            "_view_module": "@jupyter-widgets/base",
            "_view_module_version": "1.2.0",
            "_view_name": "LayoutView",
            "align_content": null,
            "align_items": null,
            "align_self": null,
            "border": null,
            "bottom": null,
            "display": null,
            "flex": null,
            "flex_flow": null,
            "grid_area": null,
            "grid_auto_columns": null,
            "grid_auto_flow": null,
            "grid_auto_rows": null,
            "grid_column": null,
            "grid_gap": null,
            "grid_row": null,
            "grid_template_areas": null,
            "grid_template_columns": null,
            "grid_template_rows": null,
            "height": null,
            "justify_content": null,
            "justify_items": null,
            "left": null,
            "margin": null,
            "max_height": null,
            "max_width": null,
            "min_height": null,
            "min_width": null,
            "object_fit": null,
            "object_position": null,
            "order": null,
            "overflow": null,
            "overflow_x": null,
            "overflow_y": null,
            "padding": null,
            "right": null,
            "top": null,
            "visibility": null,
            "width": null
          }
        },
        "2ff8afff2afd4001a9ebc14589f43585": {
          "model_module": "@jupyter-widgets/base",
          "model_module_version": "1.2.0",
          "model_name": "LayoutModel",
          "state": {
            "_model_module": "@jupyter-widgets/base",
            "_model_module_version": "1.2.0",
            "_model_name": "LayoutModel",
            "_view_count": null,
            "_view_module": "@jupyter-widgets/base",
            "_view_module_version": "1.2.0",
            "_view_name": "LayoutView",
            "align_content": null,
            "align_items": null,
            "align_self": null,
            "border": null,
            "bottom": null,
            "display": null,
            "flex": null,
            "flex_flow": null,
            "grid_area": null,
            "grid_auto_columns": null,
            "grid_auto_flow": null,
            "grid_auto_rows": null,
            "grid_column": null,
            "grid_gap": null,
            "grid_row": null,
            "grid_template_areas": null,
            "grid_template_columns": null,
            "grid_template_rows": null,
            "height": null,
            "justify_content": null,
            "justify_items": null,
            "left": null,
            "margin": null,
            "max_height": null,
            "max_width": null,
            "min_height": null,
            "min_width": null,
            "object_fit": null,
            "object_position": null,
            "order": null,
            "overflow": null,
            "overflow_x": null,
            "overflow_y": null,
            "padding": null,
            "right": null,
            "top": null,
            "visibility": null,
            "width": null
          }
        },
        "307a3ac8dc214f7796abd5c35b707c5f": {
          "model_module": "@jupyter-widgets/controls",
          "model_module_version": "1.5.0",
          "model_name": "DescriptionStyleModel",
          "state": {
            "_model_module": "@jupyter-widgets/controls",
            "_model_module_version": "1.5.0",
            "_model_name": "DescriptionStyleModel",
            "_view_count": null,
            "_view_module": "@jupyter-widgets/base",
            "_view_module_version": "1.2.0",
            "_view_name": "StyleView",
            "description_width": ""
          }
        },
        "39fd40de7c3c48a69ab8a470b455a70a": {
          "model_module": "@jupyter-widgets/controls",
          "model_module_version": "1.5.0",
          "model_name": "ProgressStyleModel",
          "state": {
            "_model_module": "@jupyter-widgets/controls",
            "_model_module_version": "1.5.0",
            "_model_name": "ProgressStyleModel",
            "_view_count": null,
            "_view_module": "@jupyter-widgets/base",
            "_view_module_version": "1.2.0",
            "_view_name": "StyleView",
            "bar_color": null,
            "description_width": ""
          }
        },
        "3be57579e43e4096a62369b7c0b3a4e4": {
          "model_module": "@jupyter-widgets/base",
          "model_module_version": "1.2.0",
          "model_name": "LayoutModel",
          "state": {
            "_model_module": "@jupyter-widgets/base",
            "_model_module_version": "1.2.0",
            "_model_name": "LayoutModel",
            "_view_count": null,
            "_view_module": "@jupyter-widgets/base",
            "_view_module_version": "1.2.0",
            "_view_name": "LayoutView",
            "align_content": null,
            "align_items": null,
            "align_self": null,
            "border": null,
            "bottom": null,
            "display": null,
            "flex": null,
            "flex_flow": null,
            "grid_area": null,
            "grid_auto_columns": null,
            "grid_auto_flow": null,
            "grid_auto_rows": null,
            "grid_column": null,
            "grid_gap": null,
            "grid_row": null,
            "grid_template_areas": null,
            "grid_template_columns": null,
            "grid_template_rows": null,
            "height": null,
            "justify_content": null,
            "justify_items": null,
            "left": null,
            "margin": null,
            "max_height": null,
            "max_width": null,
            "min_height": null,
            "min_width": null,
            "object_fit": null,
            "object_position": null,
            "order": null,
            "overflow": null,
            "overflow_x": null,
            "overflow_y": null,
            "padding": null,
            "right": null,
            "top": null,
            "visibility": null,
            "width": null
          }
        },
        "3d6f428df3ea4f538ee33c19a5c660d8": {
          "model_module": "@jupyter-widgets/controls",
          "model_module_version": "1.5.0",
          "model_name": "ProgressStyleModel",
          "state": {
            "_model_module": "@jupyter-widgets/controls",
            "_model_module_version": "1.5.0",
            "_model_name": "ProgressStyleModel",
            "_view_count": null,
            "_view_module": "@jupyter-widgets/base",
            "_view_module_version": "1.2.0",
            "_view_name": "StyleView",
            "bar_color": null,
            "description_width": ""
          }
        },
        "40c1509091cd42e4b62ebbb0ac78baa2": {
          "model_module": "@jupyter-widgets/base",
          "model_module_version": "1.2.0",
          "model_name": "LayoutModel",
          "state": {
            "_model_module": "@jupyter-widgets/base",
            "_model_module_version": "1.2.0",
            "_model_name": "LayoutModel",
            "_view_count": null,
            "_view_module": "@jupyter-widgets/base",
            "_view_module_version": "1.2.0",
            "_view_name": "LayoutView",
            "align_content": null,
            "align_items": null,
            "align_self": null,
            "border": null,
            "bottom": null,
            "display": null,
            "flex": null,
            "flex_flow": null,
            "grid_area": null,
            "grid_auto_columns": null,
            "grid_auto_flow": null,
            "grid_auto_rows": null,
            "grid_column": null,
            "grid_gap": null,
            "grid_row": null,
            "grid_template_areas": null,
            "grid_template_columns": null,
            "grid_template_rows": null,
            "height": null,
            "justify_content": null,
            "justify_items": null,
            "left": null,
            "margin": null,
            "max_height": null,
            "max_width": null,
            "min_height": null,
            "min_width": null,
            "object_fit": null,
            "object_position": null,
            "order": null,
            "overflow": null,
            "overflow_x": null,
            "overflow_y": null,
            "padding": null,
            "right": null,
            "top": null,
            "visibility": null,
            "width": null
          }
        },
        "48d7d7169c924fab95b8437df50abed7": {
          "model_module": "@jupyter-widgets/controls",
          "model_module_version": "1.5.0",
          "model_name": "HTMLModel",
          "state": {
            "_dom_classes": [],
            "_model_module": "@jupyter-widgets/controls",
            "_model_module_version": "1.5.0",
            "_model_name": "HTMLModel",
            "_view_count": null,
            "_view_module": "@jupyter-widgets/controls",
            "_view_module_version": "1.5.0",
            "_view_name": "HTMLView",
            "description": "",
            "description_tooltip": null,
            "layout": "IPY_MODEL_a8c5bf4cfd944cbaa883b1e331b98202",
            "placeholder": "​",
            "style": "IPY_MODEL_e2d90df8f1724059a3b738e1a7d67e5d",
            "value": "config.json: 100%"
          }
        },
        "4a4c8133fcd24361903d50d8d8af01fd": {
          "model_module": "@jupyter-widgets/controls",
          "model_module_version": "1.5.0",
          "model_name": "DescriptionStyleModel",
          "state": {
            "_model_module": "@jupyter-widgets/controls",
            "_model_module_version": "1.5.0",
            "_model_name": "DescriptionStyleModel",
            "_view_count": null,
            "_view_module": "@jupyter-widgets/base",
            "_view_module_version": "1.2.0",
            "_view_name": "StyleView",
            "description_width": ""
          }
        },
        "4adee31bbc9947f1b72482866ee37fc0": {
          "model_module": "@jupyter-widgets/controls",
          "model_module_version": "1.5.0",
          "model_name": "HTMLModel",
          "state": {
            "_dom_classes": [],
            "_model_module": "@jupyter-widgets/controls",
            "_model_module_version": "1.5.0",
            "_model_name": "HTMLModel",
            "_view_count": null,
            "_view_module": "@jupyter-widgets/controls",
            "_view_module_version": "1.5.0",
            "_view_name": "HTMLView",
            "description": "",
            "description_tooltip": null,
            "layout": "IPY_MODEL_1c374c24b76748989ba5966cc7b8d957",
            "placeholder": "​",
            "style": "IPY_MODEL_f4dd1922327447c3adc6765d206763d4",
            "value": " 2.31k/2.31k [00:00&lt;00:00, 106kB/s]"
          }
        },
        "4c8115456ed244b894defe84afa76d38": {
          "model_module": "@jupyter-widgets/controls",
          "model_module_version": "1.5.0",
          "model_name": "DescriptionStyleModel",
          "state": {
            "_model_module": "@jupyter-widgets/controls",
            "_model_module_version": "1.5.0",
            "_model_name": "DescriptionStyleModel",
            "_view_count": null,
            "_view_module": "@jupyter-widgets/base",
            "_view_module_version": "1.2.0",
            "_view_name": "StyleView",
            "description_width": ""
          }
        },
        "561985fdbd5f4972832c77724e4bf316": {
          "model_module": "@jupyter-widgets/controls",
          "model_module_version": "1.5.0",
          "model_name": "HTMLModel",
          "state": {
            "_dom_classes": [],
            "_model_module": "@jupyter-widgets/controls",
            "_model_module_version": "1.5.0",
            "_model_name": "HTMLModel",
            "_view_count": null,
            "_view_module": "@jupyter-widgets/controls",
            "_view_module_version": "1.5.0",
            "_view_name": "HTMLView",
            "description": "",
            "description_tooltip": null,
            "layout": "IPY_MODEL_23316c9768ad4c68beb1a85698b8aa15",
            "placeholder": "​",
            "style": "IPY_MODEL_db853a23c83149d9901b79f647af985c",
            "value": "vocab.json: 100%"
          }
        },
        "5a56347635cc4fb5a93bb623edd8e8aa": {
          "model_module": "@jupyter-widgets/controls",
          "model_module_version": "1.5.0",
          "model_name": "HTMLModel",
          "state": {
            "_dom_classes": [],
            "_model_module": "@jupyter-widgets/controls",
            "_model_module_version": "1.5.0",
            "_model_name": "HTMLModel",
            "_view_count": null,
            "_view_module": "@jupyter-widgets/controls",
            "_view_module_version": "1.5.0",
            "_view_name": "HTMLView",
            "description": "",
            "description_tooltip": null,
            "layout": "IPY_MODEL_c6f0f0a31183479d991fa76e0cff8963",
            "placeholder": "​",
            "style": "IPY_MODEL_307a3ac8dc214f7796abd5c35b707c5f",
            "value": " 1.27G/1.27G [00:30&lt;00:00, 22.3MB/s]"
          }
        },
        "5c43bb0110b9463080ac7e12862e8535": {
          "model_module": "@jupyter-widgets/base",
          "model_module_version": "1.2.0",
          "model_name": "LayoutModel",
          "state": {
            "_model_module": "@jupyter-widgets/base",
            "_model_module_version": "1.2.0",
            "_model_name": "LayoutModel",
            "_view_count": null,
            "_view_module": "@jupyter-widgets/base",
            "_view_module_version": "1.2.0",
            "_view_name": "LayoutView",
            "align_content": null,
            "align_items": null,
            "align_self": null,
            "border": null,
            "bottom": null,
            "display": null,
            "flex": null,
            "flex_flow": null,
            "grid_area": null,
            "grid_auto_columns": null,
            "grid_auto_flow": null,
            "grid_auto_rows": null,
            "grid_column": null,
            "grid_gap": null,
            "grid_row": null,
            "grid_template_areas": null,
            "grid_template_columns": null,
            "grid_template_rows": null,
            "height": null,
            "justify_content": null,
            "justify_items": null,
            "left": null,
            "margin": null,
            "max_height": null,
            "max_width": null,
            "min_height": null,
            "min_width": null,
            "object_fit": null,
            "object_position": null,
            "order": null,
            "overflow": null,
            "overflow_x": null,
            "overflow_y": null,
            "padding": null,
            "right": null,
            "top": null,
            "visibility": null,
            "width": null
          }
        },
        "6297e56ac00e42f0bd0e7459126e2dba": {
          "model_module": "@jupyter-widgets/controls",
          "model_module_version": "1.5.0",
          "model_name": "ProgressStyleModel",
          "state": {
            "_model_module": "@jupyter-widgets/controls",
            "_model_module_version": "1.5.0",
            "_model_name": "ProgressStyleModel",
            "_view_count": null,
            "_view_module": "@jupyter-widgets/base",
            "_view_module_version": "1.2.0",
            "_view_name": "StyleView",
            "bar_color": null,
            "description_width": ""
          }
        },
        "630e93c51fb64c26bc9011274f9ba6ba": {
          "model_module": "@jupyter-widgets/controls",
          "model_module_version": "1.5.0",
          "model_name": "DescriptionStyleModel",
          "state": {
            "_model_module": "@jupyter-widgets/controls",
            "_model_module_version": "1.5.0",
            "_model_name": "DescriptionStyleModel",
            "_view_count": null,
            "_view_module": "@jupyter-widgets/base",
            "_view_module_version": "1.2.0",
            "_view_name": "StyleView",
            "description_width": ""
          }
        },
        "634a492e9fc6476eb857ce32ab06c63e": {
          "model_module": "@jupyter-widgets/controls",
          "model_module_version": "1.5.0",
          "model_name": "DescriptionStyleModel",
          "state": {
            "_model_module": "@jupyter-widgets/controls",
            "_model_module_version": "1.5.0",
            "_model_name": "DescriptionStyleModel",
            "_view_count": null,
            "_view_module": "@jupyter-widgets/base",
            "_view_module_version": "1.2.0",
            "_view_name": "StyleView",
            "description_width": ""
          }
        },
        "64b092d572d64994b57538469301d03c": {
          "model_module": "@jupyter-widgets/base",
          "model_module_version": "1.2.0",
          "model_name": "LayoutModel",
          "state": {
            "_model_module": "@jupyter-widgets/base",
            "_model_module_version": "1.2.0",
            "_model_name": "LayoutModel",
            "_view_count": null,
            "_view_module": "@jupyter-widgets/base",
            "_view_module_version": "1.2.0",
            "_view_name": "LayoutView",
            "align_content": null,
            "align_items": null,
            "align_self": null,
            "border": null,
            "bottom": null,
            "display": null,
            "flex": null,
            "flex_flow": null,
            "grid_area": null,
            "grid_auto_columns": null,
            "grid_auto_flow": null,
            "grid_auto_rows": null,
            "grid_column": null,
            "grid_gap": null,
            "grid_row": null,
            "grid_template_areas": null,
            "grid_template_columns": null,
            "grid_template_rows": null,
            "height": null,
            "justify_content": null,
            "justify_items": null,
            "left": null,
            "margin": null,
            "max_height": null,
            "max_width": null,
            "min_height": null,
            "min_width": null,
            "object_fit": null,
            "object_position": null,
            "order": null,
            "overflow": null,
            "overflow_x": null,
            "overflow_y": null,
            "padding": null,
            "right": null,
            "top": null,
            "visibility": null,
            "width": null
          }
        },
        "74f54f1993cd42b3b8fd20e264648d23": {
          "model_module": "@jupyter-widgets/base",
          "model_module_version": "1.2.0",
          "model_name": "LayoutModel",
          "state": {
            "_model_module": "@jupyter-widgets/base",
            "_model_module_version": "1.2.0",
            "_model_name": "LayoutModel",
            "_view_count": null,
            "_view_module": "@jupyter-widgets/base",
            "_view_module_version": "1.2.0",
            "_view_name": "LayoutView",
            "align_content": null,
            "align_items": null,
            "align_self": null,
            "border": null,
            "bottom": null,
            "display": null,
            "flex": null,
            "flex_flow": null,
            "grid_area": null,
            "grid_auto_columns": null,
            "grid_auto_flow": null,
            "grid_auto_rows": null,
            "grid_column": null,
            "grid_gap": null,
            "grid_row": null,
            "grid_template_areas": null,
            "grid_template_columns": null,
            "grid_template_rows": null,
            "height": null,
            "justify_content": null,
            "justify_items": null,
            "left": null,
            "margin": null,
            "max_height": null,
            "max_width": null,
            "min_height": null,
            "min_width": null,
            "object_fit": null,
            "object_position": null,
            "order": null,
            "overflow": null,
            "overflow_x": null,
            "overflow_y": null,
            "padding": null,
            "right": null,
            "top": null,
            "visibility": null,
            "width": null
          }
        },
        "786fb67558df48a8b5275271465b23ee": {
          "model_module": "@jupyter-widgets/controls",
          "model_module_version": "1.5.0",
          "model_name": "HTMLModel",
          "state": {
            "_dom_classes": [],
            "_model_module": "@jupyter-widgets/controls",
            "_model_module_version": "1.5.0",
            "_model_name": "HTMLModel",
            "_view_count": null,
            "_view_module": "@jupyter-widgets/controls",
            "_view_module_version": "1.5.0",
            "_view_name": "HTMLView",
            "description": "",
            "description_tooltip": null,
            "layout": "IPY_MODEL_5c43bb0110b9463080ac7e12862e8535",
            "placeholder": "​",
            "style": "IPY_MODEL_634a492e9fc6476eb857ce32ab06c63e",
            "value": "preprocessor_config.json: 100%"
          }
        },
        "79e3444db2944c03b9cd778dc52cc185": {
          "model_module": "@jupyter-widgets/base",
          "model_module_version": "1.2.0",
          "model_name": "LayoutModel",
          "state": {
            "_model_module": "@jupyter-widgets/base",
            "_model_module_version": "1.2.0",
            "_model_name": "LayoutModel",
            "_view_count": null,
            "_view_module": "@jupyter-widgets/base",
            "_view_module_version": "1.2.0",
            "_view_name": "LayoutView",
            "align_content": null,
            "align_items": null,
            "align_self": null,
            "border": null,
            "bottom": null,
            "display": null,
            "flex": null,
            "flex_flow": null,
            "grid_area": null,
            "grid_auto_columns": null,
            "grid_auto_flow": null,
            "grid_auto_rows": null,
            "grid_column": null,
            "grid_gap": null,
            "grid_row": null,
            "grid_template_areas": null,
            "grid_template_columns": null,
            "grid_template_rows": null,
            "height": null,
            "justify_content": null,
            "justify_items": null,
            "left": null,
            "margin": null,
            "max_height": null,
            "max_width": null,
            "min_height": null,
            "min_width": null,
            "object_fit": null,
            "object_position": null,
            "order": null,
            "overflow": null,
            "overflow_x": null,
            "overflow_y": null,
            "padding": null,
            "right": null,
            "top": null,
            "visibility": null,
            "width": null
          }
        },
        "8076afe119194c46ba47efe65530934c": {
          "model_module": "@jupyter-widgets/base",
          "model_module_version": "1.2.0",
          "model_name": "LayoutModel",
          "state": {
            "_model_module": "@jupyter-widgets/base",
            "_model_module_version": "1.2.0",
            "_model_name": "LayoutModel",
            "_view_count": null,
            "_view_module": "@jupyter-widgets/base",
            "_view_module_version": "1.2.0",
            "_view_name": "LayoutView",
            "align_content": null,
            "align_items": null,
            "align_self": null,
            "border": null,
            "bottom": null,
            "display": null,
            "flex": null,
            "flex_flow": null,
            "grid_area": null,
            "grid_auto_columns": null,
            "grid_auto_flow": null,
            "grid_auto_rows": null,
            "grid_column": null,
            "grid_gap": null,
            "grid_row": null,
            "grid_template_areas": null,
            "grid_template_columns": null,
            "grid_template_rows": null,
            "height": null,
            "justify_content": null,
            "justify_items": null,
            "left": null,
            "margin": null,
            "max_height": null,
            "max_width": null,
            "min_height": null,
            "min_width": null,
            "object_fit": null,
            "object_position": null,
            "order": null,
            "overflow": null,
            "overflow_x": null,
            "overflow_y": null,
            "padding": null,
            "right": null,
            "top": null,
            "visibility": null,
            "width": null
          }
        },
        "927c496d881b4ce7ba8089dabf4258e3": {
          "model_module": "@jupyter-widgets/controls",
          "model_module_version": "1.5.0",
          "model_name": "HBoxModel",
          "state": {
            "_dom_classes": [],
            "_model_module": "@jupyter-widgets/controls",
            "_model_module_version": "1.5.0",
            "_model_name": "HBoxModel",
            "_view_count": null,
            "_view_module": "@jupyter-widgets/controls",
            "_view_module_version": "1.5.0",
            "_view_name": "HBoxView",
            "box_style": "",
            "children": [
              "IPY_MODEL_786fb67558df48a8b5275271465b23ee",
              "IPY_MODEL_a7c1248167614137ac6ec1958c6c68be",
              "IPY_MODEL_286d48710b3d4b5e8c87c286147d8477"
            ],
            "layout": "IPY_MODEL_e5c680ca51644afb9a5aa8178cb677aa"
          }
        },
        "957a2efb37de4a89b6b28325cd1f06c6": {
          "model_module": "@jupyter-widgets/controls",
          "model_module_version": "1.5.0",
          "model_name": "DescriptionStyleModel",
          "state": {
            "_model_module": "@jupyter-widgets/controls",
            "_model_module_version": "1.5.0",
            "_model_name": "DescriptionStyleModel",
            "_view_count": null,
            "_view_module": "@jupyter-widgets/base",
            "_view_module_version": "1.2.0",
            "_view_name": "StyleView",
            "description_width": ""
          }
        },
        "98ce91b74a81444d87d388870c441c46": {
          "model_module": "@jupyter-widgets/controls",
          "model_module_version": "1.5.0",
          "model_name": "HBoxModel",
          "state": {
            "_dom_classes": [],
            "_model_module": "@jupyter-widgets/controls",
            "_model_module_version": "1.5.0",
            "_model_name": "HBoxModel",
            "_view_count": null,
            "_view_module": "@jupyter-widgets/controls",
            "_view_module_version": "1.5.0",
            "_view_name": "HBoxView",
            "box_style": "",
            "children": [
              "IPY_MODEL_561985fdbd5f4972832c77724e4bf316",
              "IPY_MODEL_9e23a0f5233244bc88b502e30b001f31",
              "IPY_MODEL_a61529b6c26648638ae8ee1b2d4894ec"
            ],
            "layout": "IPY_MODEL_74f54f1993cd42b3b8fd20e264648d23"
          }
        },
        "9e23a0f5233244bc88b502e30b001f31": {
          "model_module": "@jupyter-widgets/controls",
          "model_module_version": "1.5.0",
          "model_name": "FloatProgressModel",
          "state": {
            "_dom_classes": [],
            "_model_module": "@jupyter-widgets/controls",
            "_model_module_version": "1.5.0",
            "_model_name": "FloatProgressModel",
            "_view_count": null,
            "_view_module": "@jupyter-widgets/controls",
            "_view_module_version": "1.5.0",
            "_view_name": "ProgressView",
            "bar_style": "success",
            "description": "",
            "description_tooltip": null,
            "layout": "IPY_MODEL_193503143db64764a4842821f17f95c9",
            "max": 18163,
            "min": 0,
            "orientation": "horizontal",
            "style": "IPY_MODEL_39fd40de7c3c48a69ab8a470b455a70a",
            "value": 18163
          }
        },
        "a61529b6c26648638ae8ee1b2d4894ec": {
          "model_module": "@jupyter-widgets/controls",
          "model_module_version": "1.5.0",
          "model_name": "HTMLModel",
          "state": {
            "_dom_classes": [],
            "_model_module": "@jupyter-widgets/controls",
            "_model_module_version": "1.5.0",
            "_model_name": "HTMLModel",
            "_view_count": null,
            "_view_module": "@jupyter-widgets/controls",
            "_view_module_version": "1.5.0",
            "_view_name": "HTMLView",
            "description": "",
            "description_tooltip": null,
            "layout": "IPY_MODEL_203288ba52ad46bbb2f9ae4cae9f36c1",
            "placeholder": "​",
            "style": "IPY_MODEL_957a2efb37de4a89b6b28325cd1f06c6",
            "value": " 18.2k/18.2k [00:00&lt;00:00, 676kB/s]"
          }
        },
        "a7c1248167614137ac6ec1958c6c68be": {
          "model_module": "@jupyter-widgets/controls",
          "model_module_version": "1.5.0",
          "model_name": "FloatProgressModel",
          "state": {
            "_dom_classes": [],
            "_model_module": "@jupyter-widgets/controls",
            "_model_module_version": "1.5.0",
            "_model_name": "FloatProgressModel",
            "_view_count": null,
            "_view_module": "@jupyter-widgets/controls",
            "_view_module_version": "1.5.0",
            "_view_name": "ProgressView",
            "bar_style": "success",
            "description": "",
            "description_tooltip": null,
            "layout": "IPY_MODEL_2ff8afff2afd4001a9ebc14589f43585",
            "max": 214,
            "min": 0,
            "orientation": "horizontal",
            "style": "IPY_MODEL_c9ba09e74c0d48d49dd8b52ab022b1be",
            "value": 214
          }
        },
        "a8c5bf4cfd944cbaa883b1e331b98202": {
          "model_module": "@jupyter-widgets/base",
          "model_module_version": "1.2.0",
          "model_name": "LayoutModel",
          "state": {
            "_model_module": "@jupyter-widgets/base",
            "_model_module_version": "1.2.0",
            "_model_name": "LayoutModel",
            "_view_count": null,
            "_view_module": "@jupyter-widgets/base",
            "_view_module_version": "1.2.0",
            "_view_name": "LayoutView",
            "align_content": null,
            "align_items": null,
            "align_self": null,
            "border": null,
            "bottom": null,
            "display": null,
            "flex": null,
            "flex_flow": null,
            "grid_area": null,
            "grid_auto_columns": null,
            "grid_auto_flow": null,
            "grid_auto_rows": null,
            "grid_column": null,
            "grid_gap": null,
            "grid_row": null,
            "grid_template_areas": null,
            "grid_template_columns": null,
            "grid_template_rows": null,
            "height": null,
            "justify_content": null,
            "justify_items": null,
            "left": null,
            "margin": null,
            "max_height": null,
            "max_width": null,
            "min_height": null,
            "min_width": null,
            "object_fit": null,
            "object_position": null,
            "order": null,
            "overflow": null,
            "overflow_x": null,
            "overflow_y": null,
            "padding": null,
            "right": null,
            "top": null,
            "visibility": null,
            "width": null
          }
        },
        "b43a1a89c413463587a2daf14af41d67": {
          "model_module": "@jupyter-widgets/controls",
          "model_module_version": "1.5.0",
          "model_name": "HBoxModel",
          "state": {
            "_dom_classes": [],
            "_model_module": "@jupyter-widgets/controls",
            "_model_module_version": "1.5.0",
            "_model_name": "HBoxModel",
            "_view_count": null,
            "_view_module": "@jupyter-widgets/controls",
            "_view_module_version": "1.5.0",
            "_view_name": "HBoxView",
            "box_style": "",
            "children": [
              "IPY_MODEL_48d7d7169c924fab95b8437df50abed7",
              "IPY_MODEL_17f1ee27ec8b4680b11190a710c5b3c5",
              "IPY_MODEL_4adee31bbc9947f1b72482866ee37fc0"
            ],
            "layout": "IPY_MODEL_3be57579e43e4096a62369b7c0b3a4e4"
          }
        },
        "bbdc0ef10f8146c692b64a7f7a5c553b": {
          "model_module": "@jupyter-widgets/base",
          "model_module_version": "1.2.0",
          "model_name": "LayoutModel",
          "state": {
            "_model_module": "@jupyter-widgets/base",
            "_model_module_version": "1.2.0",
            "_model_name": "LayoutModel",
            "_view_count": null,
            "_view_module": "@jupyter-widgets/base",
            "_view_module_version": "1.2.0",
            "_view_name": "LayoutView",
            "align_content": null,
            "align_items": null,
            "align_self": null,
            "border": null,
            "bottom": null,
            "display": null,
            "flex": null,
            "flex_flow": null,
            "grid_area": null,
            "grid_auto_columns": null,
            "grid_auto_flow": null,
            "grid_auto_rows": null,
            "grid_column": null,
            "grid_gap": null,
            "grid_row": null,
            "grid_template_areas": null,
            "grid_template_columns": null,
            "grid_template_rows": null,
            "height": null,
            "justify_content": null,
            "justify_items": null,
            "left": null,
            "margin": null,
            "max_height": null,
            "max_width": null,
            "min_height": null,
            "min_width": null,
            "object_fit": null,
            "object_position": null,
            "order": null,
            "overflow": null,
            "overflow_x": null,
            "overflow_y": null,
            "padding": null,
            "right": null,
            "top": null,
            "visibility": null,
            "width": null
          }
        },
        "bea2dfe94fb34791985df85e78cad6ff": {
          "model_module": "@jupyter-widgets/base",
          "model_module_version": "1.2.0",
          "model_name": "LayoutModel",
          "state": {
            "_model_module": "@jupyter-widgets/base",
            "_model_module_version": "1.2.0",
            "_model_name": "LayoutModel",
            "_view_count": null,
            "_view_module": "@jupyter-widgets/base",
            "_view_module_version": "1.2.0",
            "_view_name": "LayoutView",
            "align_content": null,
            "align_items": null,
            "align_self": null,
            "border": null,
            "bottom": null,
            "display": null,
            "flex": null,
            "flex_flow": null,
            "grid_area": null,
            "grid_auto_columns": null,
            "grid_auto_flow": null,
            "grid_auto_rows": null,
            "grid_column": null,
            "grid_gap": null,
            "grid_row": null,
            "grid_template_areas": null,
            "grid_template_columns": null,
            "grid_template_rows": null,
            "height": null,
            "justify_content": null,
            "justify_items": null,
            "left": null,
            "margin": null,
            "max_height": null,
            "max_width": null,
            "min_height": null,
            "min_width": null,
            "object_fit": null,
            "object_position": null,
            "order": null,
            "overflow": null,
            "overflow_x": null,
            "overflow_y": null,
            "padding": null,
            "right": null,
            "top": null,
            "visibility": null,
            "width": null
          }
        },
        "c096525522b64b669cf89820f37b189b": {
          "model_module": "@jupyter-widgets/controls",
          "model_module_version": "1.5.0",
          "model_name": "FloatProgressModel",
          "state": {
            "_dom_classes": [],
            "_model_module": "@jupyter-widgets/controls",
            "_model_module_version": "1.5.0",
            "_model_name": "FloatProgressModel",
            "_view_count": null,
            "_view_module": "@jupyter-widgets/controls",
            "_view_module_version": "1.5.0",
            "_view_name": "ProgressView",
            "bar_style": "success",
            "description": "",
            "description_tooltip": null,
            "layout": "IPY_MODEL_64b092d572d64994b57538469301d03c",
            "max": 161,
            "min": 0,
            "orientation": "horizontal",
            "style": "IPY_MODEL_15e37eda85c54ce3a786863563977f97",
            "value": 161
          }
        },
        "c6f0f0a31183479d991fa76e0cff8963": {
          "model_module": "@jupyter-widgets/base",
          "model_module_version": "1.2.0",
          "model_name": "LayoutModel",
          "state": {
            "_model_module": "@jupyter-widgets/base",
            "_model_module_version": "1.2.0",
            "_model_name": "LayoutModel",
            "_view_count": null,
            "_view_module": "@jupyter-widgets/base",
            "_view_module_version": "1.2.0",
            "_view_name": "LayoutView",
            "align_content": null,
            "align_items": null,
            "align_self": null,
            "border": null,
            "bottom": null,
            "display": null,
            "flex": null,
            "flex_flow": null,
            "grid_area": null,
            "grid_auto_columns": null,
            "grid_auto_flow": null,
            "grid_auto_rows": null,
            "grid_column": null,
            "grid_gap": null,
            "grid_row": null,
            "grid_template_areas": null,
            "grid_template_columns": null,
            "grid_template_rows": null,
            "height": null,
            "justify_content": null,
            "justify_items": null,
            "left": null,
            "margin": null,
            "max_height": null,
            "max_width": null,
            "min_height": null,
            "min_width": null,
            "object_fit": null,
            "object_position": null,
            "order": null,
            "overflow": null,
            "overflow_x": null,
            "overflow_y": null,
            "padding": null,
            "right": null,
            "top": null,
            "visibility": null,
            "width": null
          }
        },
        "c9ba09e74c0d48d49dd8b52ab022b1be": {
          "model_module": "@jupyter-widgets/controls",
          "model_module_version": "1.5.0",
          "model_name": "ProgressStyleModel",
          "state": {
            "_model_module": "@jupyter-widgets/controls",
            "_model_module_version": "1.5.0",
            "_model_name": "ProgressStyleModel",
            "_view_count": null,
            "_view_module": "@jupyter-widgets/base",
            "_view_module_version": "1.2.0",
            "_view_name": "StyleView",
            "bar_color": null,
            "description_width": ""
          }
        },
        "d9805d84390c4af6b97545309fec256f": {
          "model_module": "@jupyter-widgets/controls",
          "model_module_version": "1.5.0",
          "model_name": "HBoxModel",
          "state": {
            "_dom_classes": [],
            "_model_module": "@jupyter-widgets/controls",
            "_model_module_version": "1.5.0",
            "_model_name": "HBoxModel",
            "_view_count": null,
            "_view_module": "@jupyter-widgets/controls",
            "_view_module_version": "1.5.0",
            "_view_name": "HBoxView",
            "box_style": "",
            "children": [
              "IPY_MODEL_155aab22dd844a5fa123ca047d72fa5f",
              "IPY_MODEL_c096525522b64b669cf89820f37b189b",
              "IPY_MODEL_0c001ec2272448489504597e3a50db92"
            ],
            "layout": "IPY_MODEL_8076afe119194c46ba47efe65530934c"
          }
        },
        "db853a23c83149d9901b79f647af985c": {
          "model_module": "@jupyter-widgets/controls",
          "model_module_version": "1.5.0",
          "model_name": "DescriptionStyleModel",
          "state": {
            "_model_module": "@jupyter-widgets/controls",
            "_model_module_version": "1.5.0",
            "_model_name": "DescriptionStyleModel",
            "_view_count": null,
            "_view_module": "@jupyter-widgets/base",
            "_view_module_version": "1.2.0",
            "_view_name": "StyleView",
            "description_width": ""
          }
        },
        "e2d90df8f1724059a3b738e1a7d67e5d": {
          "model_module": "@jupyter-widgets/controls",
          "model_module_version": "1.5.0",
          "model_name": "DescriptionStyleModel",
          "state": {
            "_model_module": "@jupyter-widgets/controls",
            "_model_module_version": "1.5.0",
            "_model_name": "DescriptionStyleModel",
            "_view_count": null,
            "_view_module": "@jupyter-widgets/base",
            "_view_module_version": "1.2.0",
            "_view_name": "StyleView",
            "description_width": ""
          }
        },
        "e5c680ca51644afb9a5aa8178cb677aa": {
          "model_module": "@jupyter-widgets/base",
          "model_module_version": "1.2.0",
          "model_name": "LayoutModel",
          "state": {
            "_model_module": "@jupyter-widgets/base",
            "_model_module_version": "1.2.0",
            "_model_name": "LayoutModel",
            "_view_count": null,
            "_view_module": "@jupyter-widgets/base",
            "_view_module_version": "1.2.0",
            "_view_name": "LayoutView",
            "align_content": null,
            "align_items": null,
            "align_self": null,
            "border": null,
            "bottom": null,
            "display": null,
            "flex": null,
            "flex_flow": null,
            "grid_area": null,
            "grid_auto_columns": null,
            "grid_auto_flow": null,
            "grid_auto_rows": null,
            "grid_column": null,
            "grid_gap": null,
            "grid_row": null,
            "grid_template_areas": null,
            "grid_template_columns": null,
            "grid_template_rows": null,
            "height": null,
            "justify_content": null,
            "justify_items": null,
            "left": null,
            "margin": null,
            "max_height": null,
            "max_width": null,
            "min_height": null,
            "min_width": null,
            "object_fit": null,
            "object_position": null,
            "order": null,
            "overflow": null,
            "overflow_x": null,
            "overflow_y": null,
            "padding": null,
            "right": null,
            "top": null,
            "visibility": null,
            "width": null
          }
        },
        "f41774342af44c96b2465ed36d402c24": {
          "model_module": "@jupyter-widgets/base",
          "model_module_version": "1.2.0",
          "model_name": "LayoutModel",
          "state": {
            "_model_module": "@jupyter-widgets/base",
            "_model_module_version": "1.2.0",
            "_model_name": "LayoutModel",
            "_view_count": null,
            "_view_module": "@jupyter-widgets/base",
            "_view_module_version": "1.2.0",
            "_view_name": "LayoutView",
            "align_content": null,
            "align_items": null,
            "align_self": null,
            "border": null,
            "bottom": null,
            "display": null,
            "flex": null,
            "flex_flow": null,
            "grid_area": null,
            "grid_auto_columns": null,
            "grid_auto_flow": null,
            "grid_auto_rows": null,
            "grid_column": null,
            "grid_gap": null,
            "grid_row": null,
            "grid_template_areas": null,
            "grid_template_columns": null,
            "grid_template_rows": null,
            "height": null,
            "justify_content": null,
            "justify_items": null,
            "left": null,
            "margin": null,
            "max_height": null,
            "max_width": null,
            "min_height": null,
            "min_width": null,
            "object_fit": null,
            "object_position": null,
            "order": null,
            "overflow": null,
            "overflow_x": null,
            "overflow_y": null,
            "padding": null,
            "right": null,
            "top": null,
            "visibility": null,
            "width": null
          }
        },
        "f4dd1922327447c3adc6765d206763d4": {
          "model_module": "@jupyter-widgets/controls",
          "model_module_version": "1.5.0",
          "model_name": "DescriptionStyleModel",
          "state": {
            "_model_module": "@jupyter-widgets/controls",
            "_model_module_version": "1.5.0",
            "_model_name": "DescriptionStyleModel",
            "_view_count": null,
            "_view_module": "@jupyter-widgets/base",
            "_view_module_version": "1.2.0",
            "_view_name": "StyleView",
            "description_width": ""
          }
        },
        "ffe0f81b275542dcab20e94d5bcd16b6": {
          "model_module": "@jupyter-widgets/controls",
          "model_module_version": "1.5.0",
          "model_name": "HTMLModel",
          "state": {
            "_dom_classes": [],
            "_model_module": "@jupyter-widgets/controls",
            "_model_module_version": "1.5.0",
            "_model_name": "HTMLModel",
            "_view_count": null,
            "_view_module": "@jupyter-widgets/controls",
            "_view_module_version": "1.5.0",
            "_view_name": "HTMLView",
            "description": "",
            "description_tooltip": null,
            "layout": "IPY_MODEL_28fcc100a2a345baa66a086161784138",
            "placeholder": "​",
            "style": "IPY_MODEL_4a4c8133fcd24361903d50d8d8af01fd",
            "value": "model.safetensors: 100%"
          }
        }
      }
    }
  },
  "nbformat": 4,
  "nbformat_minor": 0
}
